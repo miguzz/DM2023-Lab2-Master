{
 "cells": [
  {
   "cell_type": "markdown",
   "metadata": {},
   "source": [
    "This notebook includes all pre-processing steps and the model used to perform the classification task."
   ]
  },
  {
   "cell_type": "code",
   "execution_count": 264,
   "metadata": {},
   "outputs": [
    {
     "name": "stderr",
     "output_type": "stream",
     "text": [
      "WARNING: Ignoring invalid distribution -umpy (c:\\users\\micha\\appdata\\local\\programs\\python\\python39\\lib\\site-packages)\n",
      "WARNING: Ignoring invalid distribution -umpy (c:\\users\\micha\\appdata\\local\\programs\\python\\python39\\lib\\site-packages)\n",
      "\n",
      "[notice] A new release of pip is available: 23.2.1 -> 23.3.2\n",
      "[notice] To update, run: python.exe -m pip install --upgrade pip\n"
     ]
    },
    {
     "name": "stdout",
     "output_type": "stream",
     "text": [
      "Requirement already satisfied: wordninja in c:\\users\\micha\\appdata\\local\\programs\\python\\python39\\lib\\site-packages (2.0.0)\n"
     ]
    }
   ],
   "source": [
    "!pip install wordninja"
   ]
  },
  {
   "cell_type": "code",
   "execution_count": 213,
   "metadata": {
    "execution": {
     "iopub.execute_input": "2023-12-27T14:15:57.184875Z",
     "iopub.status.busy": "2023-12-27T14:15:57.184261Z",
     "iopub.status.idle": "2023-12-27T14:15:57.193881Z",
     "shell.execute_reply": "2023-12-27T14:15:57.192071Z",
     "shell.execute_reply.started": "2023-12-27T14:15:57.184827Z"
    }
   },
   "outputs": [],
   "source": [
    "import pandas as pd\n",
    "import numpy as np\n",
    "import matplotlib.pyplot as plt\n",
    "import os\n",
    "import nltk\n",
    "import pickle\n",
    "import re\n",
    "import wordninja\n",
    "from pathlib import Path\n",
    "import warnings\n",
    "warnings.filterwarnings('ignore')"
   ]
  },
  {
   "cell_type": "code",
   "execution_count": 263,
   "metadata": {
    "execution": {
     "iopub.execute_input": "2023-12-27T14:15:57.197611Z",
     "iopub.status.busy": "2023-12-27T14:15:57.196885Z",
     "iopub.status.idle": "2023-12-27T14:15:57.208534Z",
     "shell.execute_reply": "2023-12-27T14:15:57.207378Z",
     "shell.execute_reply.started": "2023-12-27T14:15:57.197562Z"
    }
   },
   "outputs": [
    {
     "data": {
      "text/plain": [
       "['.ipynb_checkpoints',\n",
       " 'DM2023-Lab2-Homework.ipynb',\n",
       " 'img',\n",
       " 'kaggle_formatted_data.ipynb',\n",
       " 'kaggle_main.ipynb',\n",
       " 'README.md',\n",
       " 'submission.csv',\n",
       " 'w2v100dim.kvmodel',\n",
       " 'w2v100dim.kvmodel.syn1neg.npy',\n",
       " 'w2v100dim.kvmodel.wv.vectors.npy',\n",
       " 'xgb.json',\n",
       " 'xgb.pickle.dat',\n",
       " '__pycache__']"
      ]
     },
     "execution_count": 263,
     "metadata": {},
     "output_type": "execute_result"
    }
   ],
   "source": [
    "os.listdir('.')"
   ]
  },
  {
   "cell_type": "code",
   "execution_count": 215,
   "metadata": {
    "execution": {
     "iopub.execute_input": "2023-12-27T14:15:57.211095Z",
     "iopub.status.busy": "2023-12-27T14:15:57.210099Z",
     "iopub.status.idle": "2023-12-27T14:15:57.217681Z",
     "shell.execute_reply": "2023-12-27T14:15:57.216529Z",
     "shell.execute_reply.started": "2023-12-27T14:15:57.211054Z"
    }
   },
   "outputs": [],
   "source": [
    "data_folder = Path(\"../data_kaggle/\")"
   ]
  },
  {
   "cell_type": "markdown",
   "metadata": {},
   "source": [
    "# Data loading"
   ]
  },
  {
   "cell_type": "markdown",
   "metadata": {},
   "source": [
    "In this part, I simply load the tabular data created by the kaggle_formatted_data.ipynb notebook."
   ]
  },
  {
   "cell_type": "code",
   "execution_count": 216,
   "metadata": {
    "execution": {
     "iopub.execute_input": "2023-12-27T14:15:57.220572Z",
     "iopub.status.busy": "2023-12-27T14:15:57.219125Z",
     "iopub.status.idle": "2023-12-27T14:16:05.570236Z",
     "shell.execute_reply": "2023-12-27T14:16:05.568949Z",
     "shell.execute_reply.started": "2023-12-27T14:15:57.220528Z"
    }
   },
   "outputs": [],
   "source": [
    "train_data = pd.read_csv(data_folder/'train_data.csv')\n",
    "test_data = pd.read_csv(data_folder/'test_data.csv')"
   ]
  },
  {
   "cell_type": "code",
   "execution_count": 217,
   "metadata": {
    "execution": {
     "iopub.execute_input": "2023-12-27T14:16:05.808832Z",
     "iopub.status.busy": "2023-12-27T14:16:05.808202Z",
     "iopub.status.idle": "2023-12-27T14:16:05.821130Z",
     "shell.execute_reply": "2023-12-27T14:16:05.819842Z",
     "shell.execute_reply.started": "2023-12-27T14:16:05.808786Z"
    }
   },
   "outputs": [
    {
     "name": "stdout",
     "output_type": "stream",
     "text": [
      "(1455563, 4)\n",
      "(411972, 3)\n"
     ]
    }
   ],
   "source": [
    "print(train_data.shape)\n",
    "print(test_data.shape)"
   ]
  },
  {
   "cell_type": "code",
   "execution_count": 218,
   "metadata": {
    "execution": {
     "iopub.execute_input": "2023-12-27T14:16:05.823876Z",
     "iopub.status.busy": "2023-12-27T14:16:05.822921Z",
     "iopub.status.idle": "2023-12-27T14:16:05.846157Z",
     "shell.execute_reply": "2023-12-27T14:16:05.844735Z",
     "shell.execute_reply.started": "2023-12-27T14:16:05.823825Z"
    }
   },
   "outputs": [
    {
     "data": {
      "text/html": [
       "<div>\n",
       "<style scoped>\n",
       "    .dataframe tbody tr th:only-of-type {\n",
       "        vertical-align: middle;\n",
       "    }\n",
       "\n",
       "    .dataframe tbody tr th {\n",
       "        vertical-align: top;\n",
       "    }\n",
       "\n",
       "    .dataframe thead th {\n",
       "        text-align: right;\n",
       "    }\n",
       "</style>\n",
       "<table border=\"1\" class=\"dataframe\">\n",
       "  <thead>\n",
       "    <tr style=\"text-align: right;\">\n",
       "      <th></th>\n",
       "      <th>tweet_id</th>\n",
       "      <th>hashtags</th>\n",
       "      <th>texts</th>\n",
       "      <th>emotion</th>\n",
       "    </tr>\n",
       "  </thead>\n",
       "  <tbody>\n",
       "    <tr>\n",
       "      <th>0</th>\n",
       "      <td>0x29e452</td>\n",
       "      <td>[]</td>\n",
       "      <td>Huge Respect🖒 @JohnnyVegasReal talking about l...</td>\n",
       "      <td>joy</td>\n",
       "    </tr>\n",
       "    <tr>\n",
       "      <th>1</th>\n",
       "      <td>0x2b3819</td>\n",
       "      <td>['spateradio', 'app']</td>\n",
       "      <td>Yoooo we hit all our monthly goals with the ne...</td>\n",
       "      <td>joy</td>\n",
       "    </tr>\n",
       "    <tr>\n",
       "      <th>2</th>\n",
       "      <td>0x2a2acc</td>\n",
       "      <td>[]</td>\n",
       "      <td>@KIDSNTS @PICU_BCH @uhbcomms @BWCHBoss Well do...</td>\n",
       "      <td>trust</td>\n",
       "    </tr>\n",
       "    <tr>\n",
       "      <th>3</th>\n",
       "      <td>0x2a8830</td>\n",
       "      <td>['PUBG', 'GamersUnite', 'twitch', 'BeHealthy',...</td>\n",
       "      <td>Come join @ambushman27 on #PUBG while he striv...</td>\n",
       "      <td>joy</td>\n",
       "    </tr>\n",
       "    <tr>\n",
       "      <th>4</th>\n",
       "      <td>0x20b21d</td>\n",
       "      <td>['strength', 'bones', 'God']</td>\n",
       "      <td>@fanshixieen2014 Blessings!My #strength little...</td>\n",
       "      <td>anticipation</td>\n",
       "    </tr>\n",
       "  </tbody>\n",
       "</table>\n",
       "</div>"
      ],
      "text/plain": [
       "   tweet_id                                           hashtags  \\\n",
       "0  0x29e452                                                 []   \n",
       "1  0x2b3819                              ['spateradio', 'app']   \n",
       "2  0x2a2acc                                                 []   \n",
       "3  0x2a8830  ['PUBG', 'GamersUnite', 'twitch', 'BeHealthy',...   \n",
       "4  0x20b21d                       ['strength', 'bones', 'God']   \n",
       "\n",
       "                                               texts       emotion  \n",
       "0  Huge Respect🖒 @JohnnyVegasReal talking about l...           joy  \n",
       "1  Yoooo we hit all our monthly goals with the ne...           joy  \n",
       "2  @KIDSNTS @PICU_BCH @uhbcomms @BWCHBoss Well do...         trust  \n",
       "3  Come join @ambushman27 on #PUBG while he striv...           joy  \n",
       "4  @fanshixieen2014 Blessings!My #strength little...  anticipation  "
      ]
     },
     "execution_count": 218,
     "metadata": {},
     "output_type": "execute_result"
    }
   ],
   "source": [
    "train_data.head()"
   ]
  },
  {
   "cell_type": "markdown",
   "metadata": {},
   "source": [
    "# Text exploration"
   ]
  },
  {
   "cell_type": "markdown",
   "metadata": {},
   "source": [
    "In this text exploration section, I've tried various approaches to process raw text data using the regex library, which facilitates working with regular expressions.\n",
    "\n",
    "The following three functions were implemented :\n",
    "- light_string_processing\n",
    "    - Executes minimal processing on the input string.\n",
    "    - Removes the LH pattern found in the data, considered as irrelevant, and converts the text to lowercase.\n",
    "- moderate_string_processing\n",
    "    - Conducts moderate processing on the input string.\n",
    "    - Performs what light_string_processing function does\n",
    "    - Also removes additional characters such as '#', '@', '_', and '-' from each tweet.\n",
    "- intensive_string_processing\n",
    "    - Performs what moderate_string_processing function does\n",
    "    - Incorporates a specialized tool, wordninja, to address the challenge of making sense of words containing '#' and '@'.\n",
    "    - Splits text without spaces into a list of words using a probabilistic concatenated word splitting approach based on unigram frequencies from the English Wikipedia.\n",
    "    - The idea behind implementing this last function was to gain insights into words containing '#' and '@'.\n",
    "    - ref : https://stackoverflow.com/questions/8870261/how-to-split-text-without-spaces-into-list-of-words\n",
    "    \n",
    "Despite the enhanced capabilities of moderate_string_processing and intensive_string_processing functions, the results indicated that light_string_processing function was preferable for the classification task."
   ]
  },
  {
   "cell_type": "code",
   "execution_count": 219,
   "metadata": {
    "execution": {
     "iopub.execute_input": "2023-12-27T14:16:05.858173Z",
     "iopub.status.busy": "2023-12-27T14:16:05.857617Z",
     "iopub.status.idle": "2023-12-27T14:16:05.875226Z",
     "shell.execute_reply": "2023-12-27T14:16:05.874134Z",
     "shell.execute_reply.started": "2023-12-27T14:16:05.858142Z"
    }
   },
   "outputs": [],
   "source": [
    "def light_string_processing(input_str):\n",
    "    result = re.sub(r'<LH>','', input_str)\n",
    "    result = re.sub(r'\\s+', ' ', result)\n",
    "    return result.lower()"
   ]
  },
  {
   "cell_type": "code",
   "execution_count": 220,
   "metadata": {},
   "outputs": [],
   "source": [
    "def moderate_string_processing(input_str):\n",
    "    result = re.sub(r'#(\\w+)|<LH>|@|_|-', lambda x: x.group(1) if x.group(1) else '', input_str) # Delete hashtags or <LH>\n",
    "    result = re.sub(r'\\s+', ' ', result)\n",
    "    return result.lower()"
   ]
  },
  {
   "cell_type": "code",
   "execution_count": 221,
   "metadata": {},
   "outputs": [],
   "source": [
    "def intensive_string_processing(input_str):\n",
    "    replacements  = {}\n",
    "    suspicious_words = re.findall(r'[@#]\\w+', input_str)\n",
    "    for suspicious_word in suspicious_words:\n",
    "        replacements[suspicious_word] = wordninja.split(suspicious_word)\n",
    "    for suspicious_word, replacement in replacements.items():\n",
    "        input_str = input_str.replace(suspicious_word, \" \".join(replacement))\n",
    "    result = re.sub(r'#(\\w+)|<LH>|@|_|-', lambda x: x.group(1) if x.group(1) else '', input_str)\n",
    "    result = re.sub(r'\\s+', ' ', result)\n",
    "    return result.lower()"
   ]
  },
  {
   "cell_type": "code",
   "execution_count": 222,
   "metadata": {},
   "outputs": [
    {
     "name": "stdout",
     "output_type": "stream",
     "text": [
      "Original text : Good morning. 😘💏❤ <LH> #Productivity <LH> #life #SundayMorning <LH> #WorkFromHome <LH>\n",
      "\n",
      "\n",
      "light_string_processing : good morning. 😘💏❤ #productivity #life #sundaymorning #workfromhome \n",
      "\n",
      "\n",
      "moderate_string_processing : good morning. 😘💏❤ productivity life sundaymorning workfromhome \n",
      "\n",
      "\n",
      "intensive_string_processing : good morning. 😘💏❤ productivity life sunday morning work from home \n"
     ]
    }
   ],
   "source": [
    "specific_text = train_df.loc[1013690, 'texts']\n",
    "print('Original text :', specific_text)\n",
    "print('\\n')\n",
    "print('light_string_processing :', light_string_processing(specific_text))\n",
    "print('\\n')\n",
    "print('moderate_string_processing :', moderate_string_processing(specific_text))\n",
    "print('\\n')\n",
    "print('intensive_string_processing :', intensive_string_processing(specific_text))"
   ]
  },
  {
   "cell_type": "code",
   "execution_count": 223,
   "metadata": {},
   "outputs": [],
   "source": [
    "process_input_string = light_string_processing"
   ]
  },
  {
   "cell_type": "markdown",
   "metadata": {},
   "source": [
    "# Preprocessing"
   ]
  },
  {
   "cell_type": "markdown",
   "metadata": {},
   "source": [
    "In this section, I've decided to tokenize the processed text created using TweetTokenizer and SnowballStemmer.\n",
    "\n",
    "TweetTokenizer provides specialized tokenization for tweets. It preserves emoticons and handle unique features like hashtags and mentions.\n",
    "\n",
    "SnowballStemmer uses the snowball stemming algorithm to linguistically reduce words to their base forms. I have tried several stemmers provided by the scikit learn library and this one performed better."
   ]
  },
  {
   "cell_type": "code",
   "execution_count": 224,
   "metadata": {
    "execution": {
     "iopub.execute_input": "2023-12-27T14:16:05.877421Z",
     "iopub.status.busy": "2023-12-27T14:16:05.876926Z",
     "iopub.status.idle": "2023-12-27T14:16:05.889620Z",
     "shell.execute_reply": "2023-12-27T14:16:05.888589Z",
     "shell.execute_reply.started": "2023-12-27T14:16:05.877377Z"
    }
   },
   "outputs": [],
   "source": [
    "from nltk.tokenize.casual import TweetTokenizer\n",
    "from nltk.stem.snowball import SnowballStemmer"
   ]
  },
  {
   "cell_type": "code",
   "execution_count": 225,
   "metadata": {
    "execution": {
     "iopub.execute_input": "2023-12-27T14:16:05.894564Z",
     "iopub.status.busy": "2023-12-27T14:16:05.894040Z",
     "iopub.status.idle": "2023-12-27T14:16:05.904065Z",
     "shell.execute_reply": "2023-12-27T14:16:05.902828Z",
     "shell.execute_reply.started": "2023-12-27T14:16:05.894524Z"
    }
   },
   "outputs": [],
   "source": [
    "tweet_tokenizer = TweetTokenizer()\n",
    "stemmer = SnowballStemmer(\"english\")"
   ]
  },
  {
   "cell_type": "code",
   "execution_count": 226,
   "metadata": {
    "execution": {
     "iopub.execute_input": "2023-12-27T14:16:05.906335Z",
     "iopub.status.busy": "2023-12-27T14:16:05.905376Z",
     "iopub.status.idle": "2023-12-27T14:16:05.918807Z",
     "shell.execute_reply": "2023-12-27T14:16:05.917155Z",
     "shell.execute_reply.started": "2023-12-27T14:16:05.906294Z"
    }
   },
   "outputs": [],
   "source": [
    "def preprocessing(df):\n",
    "    df['processed_texts'] = df['texts'].apply(process_input_string)\n",
    "    df['processed_texts'] = df['processed_texts'].apply(lambda x: tweet_tokenizer.tokenize(x))\n",
    "    df['processed_texts'] = df['processed_texts'].apply(lambda x: [stemmer.stem(i) for i in x])\n",
    "    return df              "
   ]
  },
  {
   "cell_type": "code",
   "execution_count": 227,
   "metadata": {
    "execution": {
     "iopub.execute_input": "2023-12-27T14:16:05.921588Z",
     "iopub.status.busy": "2023-12-27T14:16:05.920514Z",
     "iopub.status.idle": "2023-12-27T14:25:45.615390Z",
     "shell.execute_reply": "2023-12-27T14:25:45.613569Z",
     "shell.execute_reply.started": "2023-12-27T14:16:05.921540Z"
    }
   },
   "outputs": [],
   "source": [
    "df = preprocessing(train_data)"
   ]
  },
  {
   "cell_type": "code",
   "execution_count": 228,
   "metadata": {},
   "outputs": [
    {
     "name": "stdout",
     "output_type": "stream",
     "text": [
      "(1455563, 5)\n"
     ]
    }
   ],
   "source": [
    "print(df.shape)"
   ]
  },
  {
   "cell_type": "markdown",
   "metadata": {},
   "source": [
    "Taking into account the variations in sentence length and the associated labeled emotions (as you can observe below), I decided to introduce a new feature, specifically the sentence length, to enhance the analysis."
   ]
  },
  {
   "cell_type": "code",
   "execution_count": 229,
   "metadata": {},
   "outputs": [],
   "source": [
    "df['len'] = df['processed_texts'].apply(len)"
   ]
  },
  {
   "cell_type": "code",
   "execution_count": 230,
   "metadata": {},
   "outputs": [
    {
     "data": {
      "image/png": "[encoded data removed]",
      "text/plain": [
       "<Figure size 720x360 with 1 Axes>"
      ]
     },
     "metadata": {
      "needs_background": "light"
     },
     "output_type": "display_data"
    },
    {
     "data": {
      "image/png": "[encoded data removed]",
      "text/plain": [
       "<Figure size 720x360 with 1 Axes>"
      ]
     },
     "metadata": {
      "needs_background": "light"
     },
     "output_type": "display_data"
    },
    {
     "data": {
      "image/png": "[encoded data removed]",
      "text/plain": [
       "<Figure size 720x360 with 1 Axes>"
      ]
     },
     "metadata": {
      "needs_background": "light"
     },
     "output_type": "display_data"
    },
    {
     "data": {
      "image/png": "[encoded data removed]",
      "text/plain": [
       "<Figure size 720x360 with 1 Axes>"
      ]
     },
     "metadata": {
      "needs_background": "light"
     },
     "output_type": "display_data"
    },
    {
     "data": {
      "image/png": "[encoded data removed]",
      "text/plain": [
       "<Figure size 720x360 with 1 Axes>"
      ]
     },
     "metadata": {
      "needs_background": "light"
     },
     "output_type": "display_data"
    },
    {
     "data": {
      "image/png": "[encoded data removed]",
      "text/plain": [
       "<Figure size 720x360 with 1 Axes>"
      ]
     },
     "metadata": {
      "needs_background": "light"
     },
     "output_type": "display_data"
    },
    {
     "data": {
      "image/png": "[encoded data removed]",
      "text/plain": [
       "<Figure size 720x360 with 1 Axes>"
      ]
     },
     "metadata": {
      "needs_background": "light"
     },
     "output_type": "display_data"
    },
    {
     "data": {
      "image/png": "[encoded data removed]",
      "text/plain": [
       "<Figure size 720x360 with 1 Axes>"
      ]
     },
     "metadata": {
      "needs_background": "light"
     },
     "output_type": "display_data"
    }
   ],
   "source": [
    "for emotion in df['emotion'].unique():\n",
    "    plt.figure(figsize=(10, 5))\n",
    "    filter_emotion = df['emotion'] == emotion\n",
    "    plt.hist(df.loc[filter_emotion, 'len'], bins=30)\n",
    "    plt.xlabel('Character Count')\n",
    "    plt.ylabel('Count')\n",
    "    plt.title(f'Sentences length distribution for {emotion} emotion')"
   ]
  },
  {
   "cell_type": "code",
   "execution_count": 231,
   "metadata": {},
   "outputs": [
    {
     "name": "stdout",
     "output_type": "stream",
     "text": [
      "(1455563, 6)\n"
     ]
    }
   ],
   "source": [
    "print(df.shape)"
   ]
  },
  {
   "cell_type": "code",
   "execution_count": 232,
   "metadata": {
    "execution": {
     "iopub.execute_input": "2023-12-27T14:30:03.805476Z",
     "iopub.status.busy": "2023-12-27T14:30:03.803825Z",
     "iopub.status.idle": "2023-12-27T14:30:06.898702Z",
     "shell.execute_reply": "2023-12-27T14:30:06.897362Z",
     "shell.execute_reply.started": "2023-12-27T14:30:03.805419Z"
    }
   },
   "outputs": [],
   "source": [
    "from sklearn.model_selection import train_test_split\n",
    "train_df, validation_df = train_test_split(df, test_size=0.2, random_state=42)"
   ]
  },
  {
   "cell_type": "code",
   "execution_count": 233,
   "metadata": {
    "execution": {
     "iopub.execute_input": "2023-12-27T14:30:06.901470Z",
     "iopub.status.busy": "2023-12-27T14:30:06.900931Z",
     "iopub.status.idle": "2023-12-27T14:30:06.908064Z",
     "shell.execute_reply": "2023-12-27T14:30:06.906694Z",
     "shell.execute_reply.started": "2023-12-27T14:30:06.901433Z"
    }
   },
   "outputs": [
    {
     "name": "stdout",
     "output_type": "stream",
     "text": [
      "(1164450, 6)\n",
      "(291113, 6)\n"
     ]
    }
   ],
   "source": [
    "print(train_df.shape)\n",
    "print(validation_df.shape)"
   ]
  },
  {
   "cell_type": "code",
   "execution_count": 234,
   "metadata": {},
   "outputs": [
    {
     "data": {
      "text/html": [
       "<div>\n",
       "<style scoped>\n",
       "    .dataframe tbody tr th:only-of-type {\n",
       "        vertical-align: middle;\n",
       "    }\n",
       "\n",
       "    .dataframe tbody tr th {\n",
       "        vertical-align: top;\n",
       "    }\n",
       "\n",
       "    .dataframe thead th {\n",
       "        text-align: right;\n",
       "    }\n",
       "</style>\n",
       "<table border=\"1\" class=\"dataframe\">\n",
       "  <thead>\n",
       "    <tr style=\"text-align: right;\">\n",
       "      <th></th>\n",
       "      <th>tweet_id</th>\n",
       "      <th>hashtags</th>\n",
       "      <th>texts</th>\n",
       "      <th>emotion</th>\n",
       "      <th>processed_texts</th>\n",
       "      <th>len</th>\n",
       "    </tr>\n",
       "  </thead>\n",
       "  <tbody>\n",
       "    <tr>\n",
       "      <th>834097</th>\n",
       "      <td>0x2671c2</td>\n",
       "      <td>['Angels']</td>\n",
       "      <td>Some of her abilities are clearly a result of ...</td>\n",
       "      <td>joy</td>\n",
       "      <td>[some, of, her, abil, are, clear, a, result, o...</td>\n",
       "      <td>12</td>\n",
       "    </tr>\n",
       "    <tr>\n",
       "      <th>355739</th>\n",
       "      <td>0x2888c7</td>\n",
       "      <td>[]</td>\n",
       "      <td>Closed Sell 2.3 Lots EURUSD 1.16126 for +10.0 ...</td>\n",
       "      <td>joy</td>\n",
       "      <td>[close, sell, 2.3, lot, eurusd, 1.16126, for, ...</td>\n",
       "      <td>15</td>\n",
       "    </tr>\n",
       "    <tr>\n",
       "      <th>625638</th>\n",
       "      <td>0x2af3c1</td>\n",
       "      <td>[]</td>\n",
       "      <td>\"The manna the Israelites received in the wild...</td>\n",
       "      <td>anticipation</td>\n",
       "      <td>[\", the, manna, the, israelit, receiv, in, the...</td>\n",
       "      <td>26</td>\n",
       "    </tr>\n",
       "    <tr>\n",
       "      <th>678647</th>\n",
       "      <td>0x246f08</td>\n",
       "      <td>[]</td>\n",
       "      <td>\"Taylor Swift is a white supremacist cause she...</td>\n",
       "      <td>disgust</td>\n",
       "      <td>[\", taylor, swift, is, a, white, supremacist, ...</td>\n",
       "      <td>27</td>\n",
       "    </tr>\n",
       "    <tr>\n",
       "      <th>441397</th>\n",
       "      <td>0x307794</td>\n",
       "      <td>[]</td>\n",
       "      <td>Im pretty sure there's a bug going around work...</td>\n",
       "      <td>joy</td>\n",
       "      <td>[im, pretti, sure, there, a, bug, go, around, ...</td>\n",
       "      <td>27</td>\n",
       "    </tr>\n",
       "  </tbody>\n",
       "</table>\n",
       "</div>"
      ],
      "text/plain": [
       "        tweet_id    hashtags  \\\n",
       "834097  0x2671c2  ['Angels']   \n",
       "355739  0x2888c7          []   \n",
       "625638  0x2af3c1          []   \n",
       "678647  0x246f08          []   \n",
       "441397  0x307794          []   \n",
       "\n",
       "                                                    texts       emotion  \\\n",
       "834097  Some of her abilities are clearly a result of ...           joy   \n",
       "355739  Closed Sell 2.3 Lots EURUSD 1.16126 for +10.0 ...           joy   \n",
       "625638  \"The manna the Israelites received in the wild...  anticipation   \n",
       "678647  \"Taylor Swift is a white supremacist cause she...       disgust   \n",
       "441397  Im pretty sure there's a bug going around work...           joy   \n",
       "\n",
       "                                          processed_texts  len  \n",
       "834097  [some, of, her, abil, are, clear, a, result, o...   12  \n",
       "355739  [close, sell, 2.3, lot, eurusd, 1.16126, for, ...   15  \n",
       "625638  [\", the, manna, the, israelit, receiv, in, the...   26  \n",
       "678647  [\", taylor, swift, is, a, white, supremacist, ...   27  \n",
       "441397  [im, pretti, sure, there, a, bug, go, around, ...   27  "
      ]
     },
     "execution_count": 234,
     "metadata": {},
     "output_type": "execute_result"
    }
   ],
   "source": [
    "train_df.head()"
   ]
  },
  {
   "cell_type": "markdown",
   "metadata": {},
   "source": [
    "I chose to normalize the length data to ensure that the algorithm is not disproportionately influenced by this feature."
   ]
  },
  {
   "cell_type": "code",
   "execution_count": 235,
   "metadata": {},
   "outputs": [],
   "source": [
    "from sklearn.preprocessing import StandardScaler\n",
    "\n",
    "scaler = StandardScaler()\n",
    "train_df['len'] = scaler.fit_transform(train_df['len'].values.reshape(len(train_df['len']), 1))\n",
    "validation_df['len'] = scaler.transform(validation_df['len'].values.reshape(len(validation_df['len']), 1))"
   ]
  },
  {
   "cell_type": "code",
   "execution_count": 236,
   "metadata": {},
   "outputs": [
    {
     "data": {
      "text/html": [
       "<div>\n",
       "<style scoped>\n",
       "    .dataframe tbody tr th:only-of-type {\n",
       "        vertical-align: middle;\n",
       "    }\n",
       "\n",
       "    .dataframe tbody tr th {\n",
       "        vertical-align: top;\n",
       "    }\n",
       "\n",
       "    .dataframe thead th {\n",
       "        text-align: right;\n",
       "    }\n",
       "</style>\n",
       "<table border=\"1\" class=\"dataframe\">\n",
       "  <thead>\n",
       "    <tr style=\"text-align: right;\">\n",
       "      <th></th>\n",
       "      <th>tweet_id</th>\n",
       "      <th>hashtags</th>\n",
       "      <th>texts</th>\n",
       "      <th>emotion</th>\n",
       "      <th>processed_texts</th>\n",
       "      <th>len</th>\n",
       "    </tr>\n",
       "  </thead>\n",
       "  <tbody>\n",
       "    <tr>\n",
       "      <th>834097</th>\n",
       "      <td>0x2671c2</td>\n",
       "      <td>['Angels']</td>\n",
       "      <td>Some of her abilities are clearly a result of ...</td>\n",
       "      <td>joy</td>\n",
       "      <td>[some, of, her, abil, are, clear, a, result, o...</td>\n",
       "      <td>-0.537723</td>\n",
       "    </tr>\n",
       "    <tr>\n",
       "      <th>355739</th>\n",
       "      <td>0x2888c7</td>\n",
       "      <td>[]</td>\n",
       "      <td>Closed Sell 2.3 Lots EURUSD 1.16126 for +10.0 ...</td>\n",
       "      <td>joy</td>\n",
       "      <td>[close, sell, 2.3, lot, eurusd, 1.16126, for, ...</td>\n",
       "      <td>-0.126610</td>\n",
       "    </tr>\n",
       "    <tr>\n",
       "      <th>625638</th>\n",
       "      <td>0x2af3c1</td>\n",
       "      <td>[]</td>\n",
       "      <td>\"The manna the Israelites received in the wild...</td>\n",
       "      <td>anticipation</td>\n",
       "      <td>[\", the, manna, the, israelit, receiv, in, the...</td>\n",
       "      <td>1.380806</td>\n",
       "    </tr>\n",
       "    <tr>\n",
       "      <th>678647</th>\n",
       "      <td>0x246f08</td>\n",
       "      <td>[]</td>\n",
       "      <td>\"Taylor Swift is a white supremacist cause she...</td>\n",
       "      <td>disgust</td>\n",
       "      <td>[\", taylor, swift, is, a, white, supremacist, ...</td>\n",
       "      <td>1.517843</td>\n",
       "    </tr>\n",
       "    <tr>\n",
       "      <th>441397</th>\n",
       "      <td>0x307794</td>\n",
       "      <td>[]</td>\n",
       "      <td>Im pretty sure there's a bug going around work...</td>\n",
       "      <td>joy</td>\n",
       "      <td>[im, pretti, sure, there, a, bug, go, around, ...</td>\n",
       "      <td>1.517843</td>\n",
       "    </tr>\n",
       "  </tbody>\n",
       "</table>\n",
       "</div>"
      ],
      "text/plain": [
       "        tweet_id    hashtags  \\\n",
       "834097  0x2671c2  ['Angels']   \n",
       "355739  0x2888c7          []   \n",
       "625638  0x2af3c1          []   \n",
       "678647  0x246f08          []   \n",
       "441397  0x307794          []   \n",
       "\n",
       "                                                    texts       emotion  \\\n",
       "834097  Some of her abilities are clearly a result of ...           joy   \n",
       "355739  Closed Sell 2.3 Lots EURUSD 1.16126 for +10.0 ...           joy   \n",
       "625638  \"The manna the Israelites received in the wild...  anticipation   \n",
       "678647  \"Taylor Swift is a white supremacist cause she...       disgust   \n",
       "441397  Im pretty sure there's a bug going around work...           joy   \n",
       "\n",
       "                                          processed_texts       len  \n",
       "834097  [some, of, her, abil, are, clear, a, result, o... -0.537723  \n",
       "355739  [close, sell, 2.3, lot, eurusd, 1.16126, for, ... -0.126610  \n",
       "625638  [\", the, manna, the, israelit, receiv, in, the...  1.380806  \n",
       "678647  [\", taylor, swift, is, a, white, supremacist, ...  1.517843  \n",
       "441397  [im, pretti, sure, there, a, bug, go, around, ...  1.517843  "
      ]
     },
     "execution_count": 236,
     "metadata": {},
     "output_type": "execute_result"
    }
   ],
   "source": [
    "train_df.head()"
   ]
  },
  {
   "cell_type": "markdown",
   "metadata": {},
   "source": [
    "# Word embeddings with Word2Vec"
   ]
  },
  {
   "cell_type": "markdown",
   "metadata": {},
   "source": [
    "I chose to utilize the Word2Vec model trained on my dataset to capture semantic relationships and contextual similarities between words. It facilitates the learning of meaningful word associations and allows the model to better understand the nuanced context within the dataset, which can be essential in the emotion classification task we have to perform."
   ]
  },
  {
   "cell_type": "code",
   "execution_count": 237,
   "metadata": {
    "execution": {
     "iopub.execute_input": "2023-12-27T14:33:01.433383Z",
     "iopub.status.busy": "2023-12-27T14:33:01.432773Z",
     "iopub.status.idle": "2023-12-27T14:33:01.439433Z",
     "shell.execute_reply": "2023-12-27T14:33:01.437598Z",
     "shell.execute_reply.started": "2023-12-27T14:33:01.433346Z"
    }
   },
   "outputs": [],
   "source": [
    "training_corpus = train_df['processed_texts'].values"
   ]
  },
  {
   "cell_type": "code",
   "execution_count": 238,
   "metadata": {
    "execution": {
     "iopub.execute_input": "2023-12-27T14:33:01.443840Z",
     "iopub.status.busy": "2023-12-27T14:33:01.442805Z",
     "iopub.status.idle": "2023-12-27T14:42:43.295437Z",
     "shell.execute_reply": "2023-12-27T14:42:43.294173Z",
     "shell.execute_reply.started": "2023-12-27T14:33:01.443789Z"
    }
   },
   "outputs": [],
   "source": [
    "from gensim.models import Word2Vec\n",
    "vector_dim = 100\n",
    "window_size = 5\n",
    "min_count = 1\n",
    "training_epochs = 20\n",
    "word2vec_model = Word2Vec(sentences=training_corpus,\n",
    "                          vector_size=vector_dim, window=window_size, \n",
    "                          min_count=min_count, epochs=training_epochs)"
   ]
  },
  {
   "cell_type": "code",
   "execution_count": 239,
   "metadata": {},
   "outputs": [],
   "source": [
    "def calculate_average_word_vector_representation(sentence):\n",
    "    valid_words_in_sentence = []\n",
    "    for word in sentence:\n",
    "        if word in word2vec_model.wv:\n",
    "            valid_words_in_sentence.append(word)\n",
    "        else:\n",
    "            pass\n",
    "    if len(valid_words_in_sentence) != 0:\n",
    "        word_vectors_for_valid_words = [word2vec_model.wv[word] for word in valid_words_in_sentence]\n",
    "        word_vectors_array = np.array(word_vectors_for_valid_words)\n",
    "        sentence_representation_mean = word_vectors_array.mean(axis=0)\n",
    "        return sentence_representation_mean\n",
    "    else:\n",
    "        return np.zeros(100)"
   ]
  },
  {
   "cell_type": "markdown",
   "metadata": {},
   "source": [
    "For each sentence, we have its average representation in a 100-dimensional space."
   ]
  },
  {
   "cell_type": "code",
   "execution_count": 240,
   "metadata": {
    "execution": {
     "iopub.execute_input": "2023-12-27T15:31:01.928204Z",
     "iopub.status.busy": "2023-12-27T15:31:01.927758Z",
     "iopub.status.idle": "2023-12-27T15:32:25.608544Z",
     "shell.execute_reply": "2023-12-27T15:32:25.607597Z",
     "shell.execute_reply.started": "2023-12-27T15:31:01.928170Z"
    }
   },
   "outputs": [],
   "source": [
    "X_train = np.array([calculate_average_word_vector_representation(s) for s in train_df['processed_texts']])"
   ]
  },
  {
   "cell_type": "markdown",
   "metadata": {},
   "source": [
    "After some tests, I opted to exclude the sentence length feature from consideration due to lower performance observed in the results."
   ]
  },
  {
   "cell_type": "code",
   "execution_count": 241,
   "metadata": {},
   "outputs": [],
   "source": [
    "# len_train = train_df['len'].values.reshape(X_train.shape[0], 1)\n",
    "# X_train = np.hstack((X_train, len_train))"
   ]
  },
  {
   "cell_type": "code",
   "execution_count": 242,
   "metadata": {
    "execution": {
     "iopub.execute_input": "2023-12-27T15:32:25.625435Z",
     "iopub.status.busy": "2023-12-27T15:32:25.624755Z",
     "iopub.status.idle": "2023-12-27T15:32:25.631080Z",
     "shell.execute_reply": "2023-12-27T15:32:25.629682Z",
     "shell.execute_reply.started": "2023-12-27T15:32:25.625400Z"
    }
   },
   "outputs": [],
   "source": [
    "y_train = train_df['emotion']"
   ]
  },
  {
   "cell_type": "code",
   "execution_count": 243,
   "metadata": {
    "execution": {
     "iopub.execute_input": "2023-12-27T15:32:25.632862Z",
     "iopub.status.busy": "2023-12-27T15:32:25.632537Z",
     "iopub.status.idle": "2023-12-27T15:32:25.643342Z",
     "shell.execute_reply": "2023-12-27T15:32:25.642260Z",
     "shell.execute_reply.started": "2023-12-27T15:32:25.632834Z"
    }
   },
   "outputs": [
    {
     "name": "stdout",
     "output_type": "stream",
     "text": [
      "(1164450, 100)\n",
      "(1164450,)\n"
     ]
    }
   ],
   "source": [
    "print(X_train.shape)\n",
    "print(y_train.shape)"
   ]
  },
  {
   "cell_type": "code",
   "execution_count": 244,
   "metadata": {
    "execution": {
     "iopub.execute_input": "2023-12-27T15:32:26.396501Z",
     "iopub.status.busy": "2023-12-27T15:32:26.396079Z",
     "iopub.status.idle": "2023-12-27T15:32:47.007249Z",
     "shell.execute_reply": "2023-12-27T15:32:47.005778Z",
     "shell.execute_reply.started": "2023-12-27T15:32:26.396459Z"
    }
   },
   "outputs": [],
   "source": [
    "X_validation = np.array([calculate_average_word_vector_representation(s) for s in validation_df['processed_texts']])"
   ]
  },
  {
   "cell_type": "code",
   "execution_count": 245,
   "metadata": {},
   "outputs": [],
   "source": [
    "# len_validation = validation_df['len'].values.reshape(X_validation.shape[0], 1)\n",
    "# X_validation = np.hstack((X_validation, len_validation))"
   ]
  },
  {
   "cell_type": "code",
   "execution_count": 246,
   "metadata": {
    "execution": {
     "iopub.execute_input": "2023-12-27T15:32:47.023329Z",
     "iopub.status.busy": "2023-12-27T15:32:47.022919Z",
     "iopub.status.idle": "2023-12-27T15:32:47.029013Z",
     "shell.execute_reply": "2023-12-27T15:32:47.027647Z",
     "shell.execute_reply.started": "2023-12-27T15:32:47.023300Z"
    }
   },
   "outputs": [],
   "source": [
    "y_validation = validation_df['emotion']"
   ]
  },
  {
   "cell_type": "code",
   "execution_count": 247,
   "metadata": {
    "execution": {
     "iopub.execute_input": "2023-12-27T15:32:47.031407Z",
     "iopub.status.busy": "2023-12-27T15:32:47.030629Z",
     "iopub.status.idle": "2023-12-27T15:32:47.040553Z",
     "shell.execute_reply": "2023-12-27T15:32:47.039312Z",
     "shell.execute_reply.started": "2023-12-27T15:32:47.031371Z"
    }
   },
   "outputs": [
    {
     "name": "stdout",
     "output_type": "stream",
     "text": [
      "(291113, 100)\n",
      "(291113,)\n"
     ]
    }
   ],
   "source": [
    "print(X_validation.shape)\n",
    "print(y_validation.shape)"
   ]
  },
  {
   "cell_type": "code",
   "execution_count": 248,
   "metadata": {
    "execution": {
     "iopub.execute_input": "2023-12-27T14:44:25.245492Z",
     "iopub.status.busy": "2023-12-27T14:44:25.244821Z",
     "iopub.status.idle": "2023-12-27T14:44:25.249856Z",
     "shell.execute_reply": "2023-12-27T14:44:25.248750Z",
     "shell.execute_reply.started": "2023-12-27T14:44:25.245459Z"
    }
   },
   "outputs": [],
   "source": [
    "word2vec_model.save('./w2v100dim.kvmodel')"
   ]
  },
  {
   "cell_type": "markdown",
   "metadata": {},
   "source": [
    "# Model"
   ]
  },
  {
   "cell_type": "markdown",
   "metadata": {},
   "source": [
    "For the given task, I experimented with five models : SVM, Decision Tree, Random Forest, Naive Bayes, and XGBoostClassifier. I finally opted for the XGBoostClassifier model as it demonstrated superior performance compared to the other models."
   ]
  },
  {
   "cell_type": "markdown",
   "metadata": {},
   "source": [
    "## XGBoostClassifier"
   ]
  },
  {
   "cell_type": "markdown",
   "metadata": {},
   "source": [
    "XGBoostClassifier demonstrated its effectiveness avoiding the overfitting I could encounter with other algorithms.\n",
    "\n",
    "XGBoost stands for eXtreme Gradient Boosting\n",
    "\n",
    "It uses an ensemble of decision trees, employing a gradient boosting framework to minimizes the loss function to iteratively improve the model performance."
   ]
  },
  {
   "cell_type": "code",
   "execution_count": 249,
   "metadata": {
    "execution": {
     "iopub.execute_input": "2023-12-27T15:34:36.394805Z",
     "iopub.status.busy": "2023-12-27T15:34:36.394308Z",
     "iopub.status.idle": "2023-12-27T15:34:36.715976Z",
     "shell.execute_reply": "2023-12-27T15:34:36.714397Z",
     "shell.execute_reply.started": "2023-12-27T15:34:36.394765Z"
    }
   },
   "outputs": [],
   "source": [
    "from sklearn.preprocessing import LabelEncoder\n",
    "label_encoder = LabelEncoder()\n",
    "y_train = label_encoder.fit_transform(y_train)\n",
    "y_validation = label_encoder.transform(y_validation)"
   ]
  },
  {
   "cell_type": "code",
   "execution_count": 250,
   "metadata": {
    "execution": {
     "iopub.execute_input": "2023-12-27T15:34:37.031359Z",
     "iopub.status.busy": "2023-12-27T15:34:37.030793Z",
     "iopub.status.idle": "2023-12-27T15:34:37.038175Z",
     "shell.execute_reply": "2023-12-27T15:34:37.036607Z",
     "shell.execute_reply.started": "2023-12-27T15:34:37.031310Z"
    }
   },
   "outputs": [],
   "source": [
    "eval_set = [(X_train, y_train),(X_validation, y_validation)]"
   ]
  },
  {
   "cell_type": "code",
   "execution_count": 251,
   "metadata": {
    "execution": {
     "iopub.execute_input": "2023-12-27T15:34:38.188452Z",
     "iopub.status.busy": "2023-12-27T15:34:38.188057Z"
    },
    "scrolled": true
   },
   "outputs": [
    {
     "name": "stdout",
     "output_type": "stream",
     "text": [
      "[0]\tvalidation_0-mlogloss:2.00932\tvalidation_1-mlogloss:2.00949\n",
      "[1]\tvalidation_0-mlogloss:1.95223\tvalidation_1-mlogloss:1.95261\n",
      "[2]\tvalidation_0-mlogloss:1.90401\tvalidation_1-mlogloss:1.90452\n",
      "[3]\tvalidation_0-mlogloss:1.86227\tvalidation_1-mlogloss:1.86295\n",
      "[4]\tvalidation_0-mlogloss:1.82493\tvalidation_1-mlogloss:1.82615\n",
      "[5]\tvalidation_0-mlogloss:1.79207\tvalidation_1-mlogloss:1.79355\n",
      "[6]\tvalidation_0-mlogloss:1.76293\tvalidation_1-mlogloss:1.76464\n",
      "[7]\tvalidation_0-mlogloss:1.73697\tvalidation_1-mlogloss:1.73894\n",
      "[8]\tvalidation_0-mlogloss:1.71309\tvalidation_1-mlogloss:1.71529\n",
      "[9]\tvalidation_0-mlogloss:1.69171\tvalidation_1-mlogloss:1.69433\n",
      "[10]\tvalidation_0-mlogloss:1.67224\tvalidation_1-mlogloss:1.67510\n",
      "[11]\tvalidation_0-mlogloss:1.65469\tvalidation_1-mlogloss:1.65777\n",
      "[12]\tvalidation_0-mlogloss:1.63847\tvalidation_1-mlogloss:1.64187\n",
      "[13]\tvalidation_0-mlogloss:1.62364\tvalidation_1-mlogloss:1.62732\n",
      "[14]\tvalidation_0-mlogloss:1.60970\tvalidation_1-mlogloss:1.61361\n",
      "[15]\tvalidation_0-mlogloss:1.59717\tvalidation_1-mlogloss:1.60136\n",
      "[16]\tvalidation_0-mlogloss:1.58555\tvalidation_1-mlogloss:1.58997\n",
      "[17]\tvalidation_0-mlogloss:1.57472\tvalidation_1-mlogloss:1.57940\n",
      "[18]\tvalidation_0-mlogloss:1.56458\tvalidation_1-mlogloss:1.56955\n",
      "[19]\tvalidation_0-mlogloss:1.55518\tvalidation_1-mlogloss:1.56042\n",
      "[20]\tvalidation_0-mlogloss:1.54634\tvalidation_1-mlogloss:1.55190\n",
      "[21]\tvalidation_0-mlogloss:1.53816\tvalidation_1-mlogloss:1.54400\n",
      "[22]\tvalidation_0-mlogloss:1.53051\tvalidation_1-mlogloss:1.53659\n",
      "[23]\tvalidation_0-mlogloss:1.52323\tvalidation_1-mlogloss:1.52963\n",
      "[24]\tvalidation_0-mlogloss:1.51641\tvalidation_1-mlogloss:1.52308\n",
      "[25]\tvalidation_0-mlogloss:1.51009\tvalidation_1-mlogloss:1.51711\n",
      "[26]\tvalidation_0-mlogloss:1.50391\tvalidation_1-mlogloss:1.51128\n",
      "[27]\tvalidation_0-mlogloss:1.49808\tvalidation_1-mlogloss:1.50571\n",
      "[28]\tvalidation_0-mlogloss:1.49261\tvalidation_1-mlogloss:1.50055\n",
      "[29]\tvalidation_0-mlogloss:1.48746\tvalidation_1-mlogloss:1.49569\n",
      "[30]\tvalidation_0-mlogloss:1.48262\tvalidation_1-mlogloss:1.49106\n",
      "[31]\tvalidation_0-mlogloss:1.47786\tvalidation_1-mlogloss:1.48660\n",
      "[32]\tvalidation_0-mlogloss:1.47349\tvalidation_1-mlogloss:1.48249\n",
      "[33]\tvalidation_0-mlogloss:1.46921\tvalidation_1-mlogloss:1.47854\n",
      "[34]\tvalidation_0-mlogloss:1.46512\tvalidation_1-mlogloss:1.47474\n",
      "[35]\tvalidation_0-mlogloss:1.46126\tvalidation_1-mlogloss:1.47117\n",
      "[36]\tvalidation_0-mlogloss:1.45758\tvalidation_1-mlogloss:1.46778\n",
      "[37]\tvalidation_0-mlogloss:1.45390\tvalidation_1-mlogloss:1.46437\n",
      "[38]\tvalidation_0-mlogloss:1.45043\tvalidation_1-mlogloss:1.46119\n",
      "[39]\tvalidation_0-mlogloss:1.44713\tvalidation_1-mlogloss:1.45816\n",
      "[40]\tvalidation_0-mlogloss:1.44400\tvalidation_1-mlogloss:1.45533\n",
      "[41]\tvalidation_0-mlogloss:1.44092\tvalidation_1-mlogloss:1.45252\n",
      "[42]\tvalidation_0-mlogloss:1.43797\tvalidation_1-mlogloss:1.44988\n",
      "[43]\tvalidation_0-mlogloss:1.43502\tvalidation_1-mlogloss:1.44723\n",
      "[44]\tvalidation_0-mlogloss:1.43215\tvalidation_1-mlogloss:1.44465\n",
      "[45]\tvalidation_0-mlogloss:1.42947\tvalidation_1-mlogloss:1.44223\n",
      "[46]\tvalidation_0-mlogloss:1.42685\tvalidation_1-mlogloss:1.43988\n",
      "[47]\tvalidation_0-mlogloss:1.42437\tvalidation_1-mlogloss:1.43767\n",
      "[48]\tvalidation_0-mlogloss:1.42198\tvalidation_1-mlogloss:1.43554\n",
      "[49]\tvalidation_0-mlogloss:1.41961\tvalidation_1-mlogloss:1.43345\n",
      "[50]\tvalidation_0-mlogloss:1.41733\tvalidation_1-mlogloss:1.43142\n",
      "[51]\tvalidation_0-mlogloss:1.41506\tvalidation_1-mlogloss:1.42941\n",
      "[52]\tvalidation_0-mlogloss:1.41287\tvalidation_1-mlogloss:1.42749\n",
      "[53]\tvalidation_0-mlogloss:1.41073\tvalidation_1-mlogloss:1.42564\n",
      "[54]\tvalidation_0-mlogloss:1.40870\tvalidation_1-mlogloss:1.42391\n",
      "[55]\tvalidation_0-mlogloss:1.40668\tvalidation_1-mlogloss:1.42216\n",
      "[56]\tvalidation_0-mlogloss:1.40475\tvalidation_1-mlogloss:1.42049\n",
      "[57]\tvalidation_0-mlogloss:1.40285\tvalidation_1-mlogloss:1.41886\n",
      "[58]\tvalidation_0-mlogloss:1.40095\tvalidation_1-mlogloss:1.41721\n",
      "[59]\tvalidation_0-mlogloss:1.39911\tvalidation_1-mlogloss:1.41563\n",
      "[60]\tvalidation_0-mlogloss:1.39726\tvalidation_1-mlogloss:1.41405\n",
      "[61]\tvalidation_0-mlogloss:1.39552\tvalidation_1-mlogloss:1.41255\n",
      "[62]\tvalidation_0-mlogloss:1.39385\tvalidation_1-mlogloss:1.41115\n",
      "[63]\tvalidation_0-mlogloss:1.39219\tvalidation_1-mlogloss:1.40977\n",
      "[64]\tvalidation_0-mlogloss:1.39057\tvalidation_1-mlogloss:1.40843\n",
      "[65]\tvalidation_0-mlogloss:1.38899\tvalidation_1-mlogloss:1.40709\n",
      "[66]\tvalidation_0-mlogloss:1.38745\tvalidation_1-mlogloss:1.40579\n",
      "[67]\tvalidation_0-mlogloss:1.38597\tvalidation_1-mlogloss:1.40456\n",
      "[68]\tvalidation_0-mlogloss:1.38446\tvalidation_1-mlogloss:1.40330\n",
      "[69]\tvalidation_0-mlogloss:1.38290\tvalidation_1-mlogloss:1.40202\n",
      "[70]\tvalidation_0-mlogloss:1.38140\tvalidation_1-mlogloss:1.40083\n",
      "[71]\tvalidation_0-mlogloss:1.38001\tvalidation_1-mlogloss:1.39970\n",
      "[72]\tvalidation_0-mlogloss:1.37867\tvalidation_1-mlogloss:1.39864\n",
      "[73]\tvalidation_0-mlogloss:1.37727\tvalidation_1-mlogloss:1.39750\n",
      "[74]\tvalidation_0-mlogloss:1.37596\tvalidation_1-mlogloss:1.39646\n",
      "[75]\tvalidation_0-mlogloss:1.37465\tvalidation_1-mlogloss:1.39538\n",
      "[76]\tvalidation_0-mlogloss:1.37337\tvalidation_1-mlogloss:1.39435\n",
      "[77]\tvalidation_0-mlogloss:1.37213\tvalidation_1-mlogloss:1.39340\n",
      "[78]\tvalidation_0-mlogloss:1.37092\tvalidation_1-mlogloss:1.39244\n",
      "[79]\tvalidation_0-mlogloss:1.36974\tvalidation_1-mlogloss:1.39153\n",
      "[80]\tvalidation_0-mlogloss:1.36854\tvalidation_1-mlogloss:1.39058\n",
      "[81]\tvalidation_0-mlogloss:1.36733\tvalidation_1-mlogloss:1.38963\n",
      "[82]\tvalidation_0-mlogloss:1.36621\tvalidation_1-mlogloss:1.38875\n",
      "[83]\tvalidation_0-mlogloss:1.36506\tvalidation_1-mlogloss:1.38785\n",
      "[84]\tvalidation_0-mlogloss:1.36393\tvalidation_1-mlogloss:1.38701\n",
      "[85]\tvalidation_0-mlogloss:1.36282\tvalidation_1-mlogloss:1.38614\n",
      "[86]\tvalidation_0-mlogloss:1.36171\tvalidation_1-mlogloss:1.38530\n",
      "[87]\tvalidation_0-mlogloss:1.36064\tvalidation_1-mlogloss:1.38449\n",
      "[88]\tvalidation_0-mlogloss:1.35957\tvalidation_1-mlogloss:1.38369\n",
      "[89]\tvalidation_0-mlogloss:1.35849\tvalidation_1-mlogloss:1.38288\n",
      "[90]\tvalidation_0-mlogloss:1.35748\tvalidation_1-mlogloss:1.38212\n",
      "[91]\tvalidation_0-mlogloss:1.35642\tvalidation_1-mlogloss:1.38136\n",
      "[92]\tvalidation_0-mlogloss:1.35543\tvalidation_1-mlogloss:1.38064\n",
      "[93]\tvalidation_0-mlogloss:1.35441\tvalidation_1-mlogloss:1.37990\n",
      "[94]\tvalidation_0-mlogloss:1.35343\tvalidation_1-mlogloss:1.37918\n",
      "[95]\tvalidation_0-mlogloss:1.35244\tvalidation_1-mlogloss:1.37843\n",
      "[96]\tvalidation_0-mlogloss:1.35144\tvalidation_1-mlogloss:1.37770\n",
      "[97]\tvalidation_0-mlogloss:1.35050\tvalidation_1-mlogloss:1.37703\n",
      "[98]\tvalidation_0-mlogloss:1.34961\tvalidation_1-mlogloss:1.37640\n",
      "[99]\tvalidation_0-mlogloss:1.34869\tvalidation_1-mlogloss:1.37574\n",
      "[100]\tvalidation_0-mlogloss:1.34780\tvalidation_1-mlogloss:1.37509\n",
      "[101]\tvalidation_0-mlogloss:1.34693\tvalidation_1-mlogloss:1.37446\n",
      "[102]\tvalidation_0-mlogloss:1.34601\tvalidation_1-mlogloss:1.37377\n",
      "[103]\tvalidation_0-mlogloss:1.34515\tvalidation_1-mlogloss:1.37315\n",
      "[104]\tvalidation_0-mlogloss:1.34432\tvalidation_1-mlogloss:1.37259\n",
      "[105]\tvalidation_0-mlogloss:1.34345\tvalidation_1-mlogloss:1.37198\n",
      "[106]\tvalidation_0-mlogloss:1.34258\tvalidation_1-mlogloss:1.37137\n",
      "[107]\tvalidation_0-mlogloss:1.34175\tvalidation_1-mlogloss:1.37078\n",
      "[108]\tvalidation_0-mlogloss:1.34091\tvalidation_1-mlogloss:1.37016\n",
      "[109]\tvalidation_0-mlogloss:1.34010\tvalidation_1-mlogloss:1.36961\n",
      "[110]\tvalidation_0-mlogloss:1.33932\tvalidation_1-mlogloss:1.36911\n",
      "[111]\tvalidation_0-mlogloss:1.33847\tvalidation_1-mlogloss:1.36851\n",
      "[112]\tvalidation_0-mlogloss:1.33770\tvalidation_1-mlogloss:1.36798\n",
      "[113]\tvalidation_0-mlogloss:1.33691\tvalidation_1-mlogloss:1.36745\n",
      "[114]\tvalidation_0-mlogloss:1.33613\tvalidation_1-mlogloss:1.36690\n",
      "[115]\tvalidation_0-mlogloss:1.33534\tvalidation_1-mlogloss:1.36638\n",
      "[116]\tvalidation_0-mlogloss:1.33460\tvalidation_1-mlogloss:1.36591\n",
      "[117]\tvalidation_0-mlogloss:1.33385\tvalidation_1-mlogloss:1.36540\n",
      "[118]\tvalidation_0-mlogloss:1.33313\tvalidation_1-mlogloss:1.36491\n",
      "[119]\tvalidation_0-mlogloss:1.33239\tvalidation_1-mlogloss:1.36442\n",
      "[120]\tvalidation_0-mlogloss:1.33164\tvalidation_1-mlogloss:1.36391\n",
      "[121]\tvalidation_0-mlogloss:1.33089\tvalidation_1-mlogloss:1.36340\n",
      "[122]\tvalidation_0-mlogloss:1.33021\tvalidation_1-mlogloss:1.36295\n",
      "[123]\tvalidation_0-mlogloss:1.32947\tvalidation_1-mlogloss:1.36245\n",
      "[124]\tvalidation_0-mlogloss:1.32875\tvalidation_1-mlogloss:1.36199\n",
      "[125]\tvalidation_0-mlogloss:1.32803\tvalidation_1-mlogloss:1.36152\n"
     ]
    },
    {
     "name": "stdout",
     "output_type": "stream",
     "text": [
      "[126]\tvalidation_0-mlogloss:1.32732\tvalidation_1-mlogloss:1.36103\n",
      "[127]\tvalidation_0-mlogloss:1.32663\tvalidation_1-mlogloss:1.36060\n",
      "[128]\tvalidation_0-mlogloss:1.32594\tvalidation_1-mlogloss:1.36014\n",
      "[129]\tvalidation_0-mlogloss:1.32523\tvalidation_1-mlogloss:1.35969\n",
      "[130]\tvalidation_0-mlogloss:1.32453\tvalidation_1-mlogloss:1.35921\n",
      "[131]\tvalidation_0-mlogloss:1.32385\tvalidation_1-mlogloss:1.35878\n",
      "[132]\tvalidation_0-mlogloss:1.32319\tvalidation_1-mlogloss:1.35838\n",
      "[133]\tvalidation_0-mlogloss:1.32252\tvalidation_1-mlogloss:1.35794\n",
      "[134]\tvalidation_0-mlogloss:1.32185\tvalidation_1-mlogloss:1.35750\n",
      "[135]\tvalidation_0-mlogloss:1.32120\tvalidation_1-mlogloss:1.35712\n",
      "[136]\tvalidation_0-mlogloss:1.32057\tvalidation_1-mlogloss:1.35673\n",
      "[137]\tvalidation_0-mlogloss:1.31993\tvalidation_1-mlogloss:1.35632\n",
      "[138]\tvalidation_0-mlogloss:1.31934\tvalidation_1-mlogloss:1.35596\n",
      "[139]\tvalidation_0-mlogloss:1.31873\tvalidation_1-mlogloss:1.35555\n",
      "[140]\tvalidation_0-mlogloss:1.31809\tvalidation_1-mlogloss:1.35513\n",
      "[141]\tvalidation_0-mlogloss:1.31745\tvalidation_1-mlogloss:1.35474\n",
      "[142]\tvalidation_0-mlogloss:1.31681\tvalidation_1-mlogloss:1.35433\n",
      "[143]\tvalidation_0-mlogloss:1.31622\tvalidation_1-mlogloss:1.35398\n",
      "[144]\tvalidation_0-mlogloss:1.31561\tvalidation_1-mlogloss:1.35357\n",
      "[145]\tvalidation_0-mlogloss:1.31500\tvalidation_1-mlogloss:1.35322\n",
      "[146]\tvalidation_0-mlogloss:1.31437\tvalidation_1-mlogloss:1.35284\n",
      "[147]\tvalidation_0-mlogloss:1.31374\tvalidation_1-mlogloss:1.35247\n",
      "[148]\tvalidation_0-mlogloss:1.31316\tvalidation_1-mlogloss:1.35213\n",
      "[149]\tvalidation_0-mlogloss:1.31256\tvalidation_1-mlogloss:1.35178\n",
      "[150]\tvalidation_0-mlogloss:1.31199\tvalidation_1-mlogloss:1.35143\n",
      "[151]\tvalidation_0-mlogloss:1.31142\tvalidation_1-mlogloss:1.35110\n",
      "[152]\tvalidation_0-mlogloss:1.31086\tvalidation_1-mlogloss:1.35077\n",
      "[153]\tvalidation_0-mlogloss:1.31027\tvalidation_1-mlogloss:1.35041\n",
      "[154]\tvalidation_0-mlogloss:1.30968\tvalidation_1-mlogloss:1.35004\n",
      "[155]\tvalidation_0-mlogloss:1.30909\tvalidation_1-mlogloss:1.34968\n",
      "[156]\tvalidation_0-mlogloss:1.30853\tvalidation_1-mlogloss:1.34935\n",
      "[157]\tvalidation_0-mlogloss:1.30798\tvalidation_1-mlogloss:1.34903\n",
      "[158]\tvalidation_0-mlogloss:1.30742\tvalidation_1-mlogloss:1.34868\n",
      "[159]\tvalidation_0-mlogloss:1.30685\tvalidation_1-mlogloss:1.34836\n",
      "[160]\tvalidation_0-mlogloss:1.30630\tvalidation_1-mlogloss:1.34804\n",
      "[161]\tvalidation_0-mlogloss:1.30573\tvalidation_1-mlogloss:1.34772\n",
      "[162]\tvalidation_0-mlogloss:1.30515\tvalidation_1-mlogloss:1.34738\n",
      "[163]\tvalidation_0-mlogloss:1.30464\tvalidation_1-mlogloss:1.34710\n",
      "[164]\tvalidation_0-mlogloss:1.30412\tvalidation_1-mlogloss:1.34681\n",
      "[165]\tvalidation_0-mlogloss:1.30355\tvalidation_1-mlogloss:1.34647\n",
      "[166]\tvalidation_0-mlogloss:1.30300\tvalidation_1-mlogloss:1.34614\n",
      "[167]\tvalidation_0-mlogloss:1.30246\tvalidation_1-mlogloss:1.34584\n",
      "[168]\tvalidation_0-mlogloss:1.30195\tvalidation_1-mlogloss:1.34553\n",
      "[169]\tvalidation_0-mlogloss:1.30146\tvalidation_1-mlogloss:1.34530\n",
      "[170]\tvalidation_0-mlogloss:1.30094\tvalidation_1-mlogloss:1.34500\n",
      "[171]\tvalidation_0-mlogloss:1.30040\tvalidation_1-mlogloss:1.34471\n",
      "[172]\tvalidation_0-mlogloss:1.29989\tvalidation_1-mlogloss:1.34441\n",
      "[173]\tvalidation_0-mlogloss:1.29937\tvalidation_1-mlogloss:1.34413\n",
      "[174]\tvalidation_0-mlogloss:1.29886\tvalidation_1-mlogloss:1.34385\n",
      "[175]\tvalidation_0-mlogloss:1.29834\tvalidation_1-mlogloss:1.34356\n",
      "[176]\tvalidation_0-mlogloss:1.29783\tvalidation_1-mlogloss:1.34327\n",
      "[177]\tvalidation_0-mlogloss:1.29734\tvalidation_1-mlogloss:1.34298\n",
      "[178]\tvalidation_0-mlogloss:1.29681\tvalidation_1-mlogloss:1.34269\n",
      "[179]\tvalidation_0-mlogloss:1.29631\tvalidation_1-mlogloss:1.34239\n",
      "[180]\tvalidation_0-mlogloss:1.29581\tvalidation_1-mlogloss:1.34212\n",
      "[181]\tvalidation_0-mlogloss:1.29530\tvalidation_1-mlogloss:1.34184\n",
      "[182]\tvalidation_0-mlogloss:1.29477\tvalidation_1-mlogloss:1.34156\n",
      "[183]\tvalidation_0-mlogloss:1.29432\tvalidation_1-mlogloss:1.34134\n",
      "[184]\tvalidation_0-mlogloss:1.29383\tvalidation_1-mlogloss:1.34109\n",
      "[185]\tvalidation_0-mlogloss:1.29336\tvalidation_1-mlogloss:1.34082\n",
      "[186]\tvalidation_0-mlogloss:1.29289\tvalidation_1-mlogloss:1.34058\n",
      "[187]\tvalidation_0-mlogloss:1.29241\tvalidation_1-mlogloss:1.34032\n",
      "[188]\tvalidation_0-mlogloss:1.29193\tvalidation_1-mlogloss:1.34007\n",
      "[189]\tvalidation_0-mlogloss:1.29146\tvalidation_1-mlogloss:1.33983\n",
      "[190]\tvalidation_0-mlogloss:1.29101\tvalidation_1-mlogloss:1.33960\n",
      "[191]\tvalidation_0-mlogloss:1.29055\tvalidation_1-mlogloss:1.33936\n",
      "[192]\tvalidation_0-mlogloss:1.29006\tvalidation_1-mlogloss:1.33912\n",
      "[193]\tvalidation_0-mlogloss:1.28960\tvalidation_1-mlogloss:1.33889\n",
      "[194]\tvalidation_0-mlogloss:1.28912\tvalidation_1-mlogloss:1.33866\n",
      "[195]\tvalidation_0-mlogloss:1.28868\tvalidation_1-mlogloss:1.33846\n",
      "[196]\tvalidation_0-mlogloss:1.28821\tvalidation_1-mlogloss:1.33821\n",
      "[197]\tvalidation_0-mlogloss:1.28774\tvalidation_1-mlogloss:1.33796\n",
      "[198]\tvalidation_0-mlogloss:1.28729\tvalidation_1-mlogloss:1.33772\n",
      "[199]\tvalidation_0-mlogloss:1.28680\tvalidation_1-mlogloss:1.33747\n",
      "[200]\tvalidation_0-mlogloss:1.28637\tvalidation_1-mlogloss:1.33726\n",
      "[201]\tvalidation_0-mlogloss:1.28591\tvalidation_1-mlogloss:1.33702\n",
      "[202]\tvalidation_0-mlogloss:1.28543\tvalidation_1-mlogloss:1.33675\n",
      "[203]\tvalidation_0-mlogloss:1.28500\tvalidation_1-mlogloss:1.33654\n",
      "[204]\tvalidation_0-mlogloss:1.28458\tvalidation_1-mlogloss:1.33635\n",
      "[205]\tvalidation_0-mlogloss:1.28413\tvalidation_1-mlogloss:1.33610\n",
      "[206]\tvalidation_0-mlogloss:1.28370\tvalidation_1-mlogloss:1.33589\n",
      "[207]\tvalidation_0-mlogloss:1.28322\tvalidation_1-mlogloss:1.33561\n",
      "[208]\tvalidation_0-mlogloss:1.28277\tvalidation_1-mlogloss:1.33537\n",
      "[209]\tvalidation_0-mlogloss:1.28235\tvalidation_1-mlogloss:1.33515\n",
      "[210]\tvalidation_0-mlogloss:1.28192\tvalidation_1-mlogloss:1.33493\n",
      "[211]\tvalidation_0-mlogloss:1.28152\tvalidation_1-mlogloss:1.33474\n",
      "[212]\tvalidation_0-mlogloss:1.28110\tvalidation_1-mlogloss:1.33452\n",
      "[213]\tvalidation_0-mlogloss:1.28069\tvalidation_1-mlogloss:1.33435\n",
      "[214]\tvalidation_0-mlogloss:1.28025\tvalidation_1-mlogloss:1.33412\n",
      "[215]\tvalidation_0-mlogloss:1.27982\tvalidation_1-mlogloss:1.33391\n",
      "[216]\tvalidation_0-mlogloss:1.27941\tvalidation_1-mlogloss:1.33369\n",
      "[217]\tvalidation_0-mlogloss:1.27898\tvalidation_1-mlogloss:1.33346\n",
      "[218]\tvalidation_0-mlogloss:1.27857\tvalidation_1-mlogloss:1.33326\n",
      "[219]\tvalidation_0-mlogloss:1.27814\tvalidation_1-mlogloss:1.33304\n",
      "[220]\tvalidation_0-mlogloss:1.27774\tvalidation_1-mlogloss:1.33285\n",
      "[221]\tvalidation_0-mlogloss:1.27728\tvalidation_1-mlogloss:1.33263\n",
      "[222]\tvalidation_0-mlogloss:1.27683\tvalidation_1-mlogloss:1.33238\n",
      "[223]\tvalidation_0-mlogloss:1.27643\tvalidation_1-mlogloss:1.33222\n",
      "[224]\tvalidation_0-mlogloss:1.27601\tvalidation_1-mlogloss:1.33202\n",
      "[225]\tvalidation_0-mlogloss:1.27558\tvalidation_1-mlogloss:1.33181\n",
      "[226]\tvalidation_0-mlogloss:1.27517\tvalidation_1-mlogloss:1.33163\n",
      "[227]\tvalidation_0-mlogloss:1.27480\tvalidation_1-mlogloss:1.33146\n",
      "[228]\tvalidation_0-mlogloss:1.27439\tvalidation_1-mlogloss:1.33128\n",
      "[229]\tvalidation_0-mlogloss:1.27400\tvalidation_1-mlogloss:1.33111\n",
      "[230]\tvalidation_0-mlogloss:1.27360\tvalidation_1-mlogloss:1.33092\n",
      "[231]\tvalidation_0-mlogloss:1.27324\tvalidation_1-mlogloss:1.33075\n",
      "[232]\tvalidation_0-mlogloss:1.27282\tvalidation_1-mlogloss:1.33054\n",
      "[233]\tvalidation_0-mlogloss:1.27242\tvalidation_1-mlogloss:1.33034\n",
      "[234]\tvalidation_0-mlogloss:1.27202\tvalidation_1-mlogloss:1.33015\n",
      "[235]\tvalidation_0-mlogloss:1.27158\tvalidation_1-mlogloss:1.32993\n",
      "[236]\tvalidation_0-mlogloss:1.27117\tvalidation_1-mlogloss:1.32974\n",
      "[237]\tvalidation_0-mlogloss:1.27078\tvalidation_1-mlogloss:1.32956\n",
      "[238]\tvalidation_0-mlogloss:1.27038\tvalidation_1-mlogloss:1.32938\n",
      "[239]\tvalidation_0-mlogloss:1.26998\tvalidation_1-mlogloss:1.32920\n",
      "[240]\tvalidation_0-mlogloss:1.26958\tvalidation_1-mlogloss:1.32902\n",
      "[241]\tvalidation_0-mlogloss:1.26920\tvalidation_1-mlogloss:1.32885\n",
      "[242]\tvalidation_0-mlogloss:1.26881\tvalidation_1-mlogloss:1.32864\n",
      "[243]\tvalidation_0-mlogloss:1.26843\tvalidation_1-mlogloss:1.32849\n",
      "[244]\tvalidation_0-mlogloss:1.26803\tvalidation_1-mlogloss:1.32831\n",
      "[245]\tvalidation_0-mlogloss:1.26767\tvalidation_1-mlogloss:1.32816\n",
      "[246]\tvalidation_0-mlogloss:1.26732\tvalidation_1-mlogloss:1.32802\n",
      "[247]\tvalidation_0-mlogloss:1.26695\tvalidation_1-mlogloss:1.32784\n",
      "[248]\tvalidation_0-mlogloss:1.26659\tvalidation_1-mlogloss:1.32769\n",
      "[249]\tvalidation_0-mlogloss:1.26626\tvalidation_1-mlogloss:1.32756\n",
      "[250]\tvalidation_0-mlogloss:1.26588\tvalidation_1-mlogloss:1.32741\n"
     ]
    },
    {
     "name": "stdout",
     "output_type": "stream",
     "text": [
      "[251]\tvalidation_0-mlogloss:1.26546\tvalidation_1-mlogloss:1.32723\n",
      "[252]\tvalidation_0-mlogloss:1.26509\tvalidation_1-mlogloss:1.32707\n",
      "[253]\tvalidation_0-mlogloss:1.26473\tvalidation_1-mlogloss:1.32692\n",
      "[254]\tvalidation_0-mlogloss:1.26437\tvalidation_1-mlogloss:1.32676\n",
      "[255]\tvalidation_0-mlogloss:1.26399\tvalidation_1-mlogloss:1.32658\n",
      "[256]\tvalidation_0-mlogloss:1.26360\tvalidation_1-mlogloss:1.32641\n",
      "[257]\tvalidation_0-mlogloss:1.26322\tvalidation_1-mlogloss:1.32626\n",
      "[258]\tvalidation_0-mlogloss:1.26285\tvalidation_1-mlogloss:1.32610\n",
      "[259]\tvalidation_0-mlogloss:1.26246\tvalidation_1-mlogloss:1.32594\n",
      "[260]\tvalidation_0-mlogloss:1.26210\tvalidation_1-mlogloss:1.32577\n",
      "[261]\tvalidation_0-mlogloss:1.26175\tvalidation_1-mlogloss:1.32562\n",
      "[262]\tvalidation_0-mlogloss:1.26139\tvalidation_1-mlogloss:1.32546\n",
      "[263]\tvalidation_0-mlogloss:1.26100\tvalidation_1-mlogloss:1.32527\n",
      "[264]\tvalidation_0-mlogloss:1.26066\tvalidation_1-mlogloss:1.32515\n",
      "[265]\tvalidation_0-mlogloss:1.26028\tvalidation_1-mlogloss:1.32497\n",
      "[266]\tvalidation_0-mlogloss:1.25990\tvalidation_1-mlogloss:1.32480\n",
      "[267]\tvalidation_0-mlogloss:1.25953\tvalidation_1-mlogloss:1.32465\n",
      "[268]\tvalidation_0-mlogloss:1.25919\tvalidation_1-mlogloss:1.32451\n",
      "[269]\tvalidation_0-mlogloss:1.25882\tvalidation_1-mlogloss:1.32436\n",
      "[270]\tvalidation_0-mlogloss:1.25847\tvalidation_1-mlogloss:1.32421\n",
      "[271]\tvalidation_0-mlogloss:1.25815\tvalidation_1-mlogloss:1.32410\n",
      "[272]\tvalidation_0-mlogloss:1.25777\tvalidation_1-mlogloss:1.32392\n",
      "[273]\tvalidation_0-mlogloss:1.25742\tvalidation_1-mlogloss:1.32377\n",
      "[274]\tvalidation_0-mlogloss:1.25710\tvalidation_1-mlogloss:1.32366\n",
      "[275]\tvalidation_0-mlogloss:1.25676\tvalidation_1-mlogloss:1.32353\n",
      "[276]\tvalidation_0-mlogloss:1.25645\tvalidation_1-mlogloss:1.32338\n",
      "[277]\tvalidation_0-mlogloss:1.25611\tvalidation_1-mlogloss:1.32326\n",
      "[278]\tvalidation_0-mlogloss:1.25575\tvalidation_1-mlogloss:1.32311\n",
      "[279]\tvalidation_0-mlogloss:1.25540\tvalidation_1-mlogloss:1.32297\n",
      "[280]\tvalidation_0-mlogloss:1.25506\tvalidation_1-mlogloss:1.32284\n",
      "[281]\tvalidation_0-mlogloss:1.25475\tvalidation_1-mlogloss:1.32271\n",
      "[282]\tvalidation_0-mlogloss:1.25440\tvalidation_1-mlogloss:1.32257\n",
      "[283]\tvalidation_0-mlogloss:1.25404\tvalidation_1-mlogloss:1.32242\n",
      "[284]\tvalidation_0-mlogloss:1.25369\tvalidation_1-mlogloss:1.32229\n",
      "[285]\tvalidation_0-mlogloss:1.25335\tvalidation_1-mlogloss:1.32215\n",
      "[286]\tvalidation_0-mlogloss:1.25301\tvalidation_1-mlogloss:1.32202\n",
      "[287]\tvalidation_0-mlogloss:1.25266\tvalidation_1-mlogloss:1.32189\n",
      "[288]\tvalidation_0-mlogloss:1.25233\tvalidation_1-mlogloss:1.32176\n",
      "[289]\tvalidation_0-mlogloss:1.25199\tvalidation_1-mlogloss:1.32164\n",
      "[290]\tvalidation_0-mlogloss:1.25163\tvalidation_1-mlogloss:1.32148\n",
      "[291]\tvalidation_0-mlogloss:1.25132\tvalidation_1-mlogloss:1.32138\n",
      "[292]\tvalidation_0-mlogloss:1.25098\tvalidation_1-mlogloss:1.32127\n",
      "[293]\tvalidation_0-mlogloss:1.25064\tvalidation_1-mlogloss:1.32112\n",
      "[294]\tvalidation_0-mlogloss:1.25027\tvalidation_1-mlogloss:1.32096\n",
      "[295]\tvalidation_0-mlogloss:1.24995\tvalidation_1-mlogloss:1.32085\n",
      "[296]\tvalidation_0-mlogloss:1.24962\tvalidation_1-mlogloss:1.32072\n",
      "[297]\tvalidation_0-mlogloss:1.24930\tvalidation_1-mlogloss:1.32061\n",
      "[298]\tvalidation_0-mlogloss:1.24901\tvalidation_1-mlogloss:1.32051\n",
      "[299]\tvalidation_0-mlogloss:1.24872\tvalidation_1-mlogloss:1.32040\n"
     ]
    },
    {
     "data": {
      "text/html": [
       "<style>#sk-container-id-6 {color: black;}#sk-container-id-6 pre{padding: 0;}#sk-container-id-6 div.sk-toggleable {background-color: white;}#sk-container-id-6 label.sk-toggleable__label {cursor: pointer;display: block;width: 100%;margin-bottom: 0;padding: 0.3em;box-sizing: border-box;text-align: center;}#sk-container-id-6 label.sk-toggleable__label-arrow:before {content: \"▸\";float: left;margin-right: 0.25em;color: #696969;}#sk-container-id-6 label.sk-toggleable__label-arrow:hover:before {color: black;}#sk-container-id-6 div.sk-estimator:hover label.sk-toggleable__label-arrow:before {color: black;}#sk-container-id-6 div.sk-toggleable__content {max-height: 0;max-width: 0;overflow: hidden;text-align: left;background-color: #f0f8ff;}#sk-container-id-6 div.sk-toggleable__content pre {margin: 0.2em;color: black;border-radius: 0.25em;background-color: #f0f8ff;}#sk-container-id-6 input.sk-toggleable__control:checked~div.sk-toggleable__content {max-height: 200px;max-width: 100%;overflow: auto;}#sk-container-id-6 input.sk-toggleable__control:checked~label.sk-toggleable__label-arrow:before {content: \"▾\";}#sk-container-id-6 div.sk-estimator input.sk-toggleable__control:checked~label.sk-toggleable__label {background-color: #d4ebff;}#sk-container-id-6 div.sk-label input.sk-toggleable__control:checked~label.sk-toggleable__label {background-color: #d4ebff;}#sk-container-id-6 input.sk-hidden--visually {border: 0;clip: rect(1px 1px 1px 1px);clip: rect(1px, 1px, 1px, 1px);height: 1px;margin: -1px;overflow: hidden;padding: 0;position: absolute;width: 1px;}#sk-container-id-6 div.sk-estimator {font-family: monospace;background-color: #f0f8ff;border: 1px dotted black;border-radius: 0.25em;box-sizing: border-box;margin-bottom: 0.5em;}#sk-container-id-6 div.sk-estimator:hover {background-color: #d4ebff;}#sk-container-id-6 div.sk-parallel-item::after {content: \"\";width: 100%;border-bottom: 1px solid gray;flex-grow: 1;}#sk-container-id-6 div.sk-label:hover label.sk-toggleable__label {background-color: #d4ebff;}#sk-container-id-6 div.sk-serial::before {content: \"\";position: absolute;border-left: 1px solid gray;box-sizing: border-box;top: 0;bottom: 0;left: 50%;z-index: 0;}#sk-container-id-6 div.sk-serial {display: flex;flex-direction: column;align-items: center;background-color: white;padding-right: 0.2em;padding-left: 0.2em;position: relative;}#sk-container-id-6 div.sk-item {position: relative;z-index: 1;}#sk-container-id-6 div.sk-parallel {display: flex;align-items: stretch;justify-content: center;background-color: white;position: relative;}#sk-container-id-6 div.sk-item::before, #sk-container-id-6 div.sk-parallel-item::before {content: \"\";position: absolute;border-left: 1px solid gray;box-sizing: border-box;top: 0;bottom: 0;left: 50%;z-index: -1;}#sk-container-id-6 div.sk-parallel-item {display: flex;flex-direction: column;z-index: 1;position: relative;background-color: white;}#sk-container-id-6 div.sk-parallel-item:first-child::after {align-self: flex-end;width: 50%;}#sk-container-id-6 div.sk-parallel-item:last-child::after {align-self: flex-start;width: 50%;}#sk-container-id-6 div.sk-parallel-item:only-child::after {width: 0;}#sk-container-id-6 div.sk-dashed-wrapped {border: 1px dashed gray;margin: 0 0.4em 0.5em 0.4em;box-sizing: border-box;padding-bottom: 0.4em;background-color: white;}#sk-container-id-6 div.sk-label label {font-family: monospace;font-weight: bold;display: inline-block;line-height: 1.2em;}#sk-container-id-6 div.sk-label-container {text-align: center;}#sk-container-id-6 div.sk-container {/* jupyter's `normalize.less` sets `[hidden] { display: none; }` but bootstrap.min.css set `[hidden] { display: none !important; }` so we also need the `!important` here to be able to override the default hidden behavior on the sphinx rendered scikit-learn.org. See: https://github.com/scikit-learn/scikit-learn/issues/21755 */display: inline-block !important;position: relative;}#sk-container-id-6 div.sk-text-repr-fallback {display: none;}</style><div id=\"sk-container-id-6\" class=\"sk-top-container\"><div class=\"sk-text-repr-fallback\"><pre>XGBClassifier(base_score=None, booster=None, callbacks=None,\n",
       "              colsample_bylevel=None, colsample_bynode=None,\n",
       "              colsample_bytree=0.8, device=None, early_stopping_rounds=None,\n",
       "              enable_categorical=False, eval_metric=None, feature_types=None,\n",
       "              gamma=None, grow_policy=None, importance_type=None,\n",
       "              interaction_constraints=None, learning_rate=0.1, max_bin=None,\n",
       "              max_cat_threshold=None, max_cat_to_onehot=None,\n",
       "              max_delta_step=None, max_depth=6, max_leaves=None,\n",
       "              min_child_weight=1, missing=nan, monotone_constraints=None,\n",
       "              multi_strategy=None, n_estimators=300, n_jobs=None,\n",
       "              num_parallel_tree=None, objective=&#x27;multi:softprob&#x27;, ...)</pre><b>In a Jupyter environment, please rerun this cell to show the HTML representation or trust the notebook. <br />On GitHub, the HTML representation is unable to render, please try loading this page with nbviewer.org.</b></div><div class=\"sk-container\" hidden><div class=\"sk-item\"><div class=\"sk-estimator sk-toggleable\"><input class=\"sk-toggleable__control sk-hidden--visually\" id=\"sk-estimator-id-6\" type=\"checkbox\" checked><label for=\"sk-estimator-id-6\" class=\"sk-toggleable__label sk-toggleable__label-arrow\">XGBClassifier</label><div class=\"sk-toggleable__content\"><pre>XGBClassifier(base_score=None, booster=None, callbacks=None,\n",
       "              colsample_bylevel=None, colsample_bynode=None,\n",
       "              colsample_bytree=0.8, device=None, early_stopping_rounds=None,\n",
       "              enable_categorical=False, eval_metric=None, feature_types=None,\n",
       "              gamma=None, grow_policy=None, importance_type=None,\n",
       "              interaction_constraints=None, learning_rate=0.1, max_bin=None,\n",
       "              max_cat_threshold=None, max_cat_to_onehot=None,\n",
       "              max_delta_step=None, max_depth=6, max_leaves=None,\n",
       "              min_child_weight=1, missing=nan, monotone_constraints=None,\n",
       "              multi_strategy=None, n_estimators=300, n_jobs=None,\n",
       "              num_parallel_tree=None, objective=&#x27;multi:softprob&#x27;, ...)</pre></div></div></div></div></div>"
      ],
      "text/plain": [
       "XGBClassifier(base_score=None, booster=None, callbacks=None,\n",
       "              colsample_bylevel=None, colsample_bynode=None,\n",
       "              colsample_bytree=0.8, device=None, early_stopping_rounds=None,\n",
       "              enable_categorical=False, eval_metric=None, feature_types=None,\n",
       "              gamma=None, grow_policy=None, importance_type=None,\n",
       "              interaction_constraints=None, learning_rate=0.1, max_bin=None,\n",
       "              max_cat_threshold=None, max_cat_to_onehot=None,\n",
       "              max_delta_step=None, max_depth=6, max_leaves=None,\n",
       "              min_child_weight=1, missing=nan, monotone_constraints=None,\n",
       "              multi_strategy=None, n_estimators=300, n_jobs=None,\n",
       "              num_parallel_tree=None, objective='multi:softprob', ...)"
      ]
     },
     "execution_count": 251,
     "metadata": {},
     "output_type": "execute_result"
    }
   ],
   "source": [
    "from xgboost import XGBClassifier\n",
    "xgb_clf = XGBClassifier(\n",
    "    n_estimators=300,  # Increase the number of trees\n",
    "    learning_rate=0.1,  # Higher learning rate \n",
    "    max_depth=6, \n",
    "    min_child_weight=1, \n",
    "    subsample=0.8,  # Use a fraction of the training data for each tree\n",
    "    colsample_bytree=0.8,  # Use a fraction of features for each tree\n",
    "    verbosity=2\n",
    ")\n",
    "xgb_clf.fit(X_train, y_train, eval_set=eval_set, early_stopping_rounds=20)"
   ]
  },
  {
   "cell_type": "code",
   "execution_count": 252,
   "metadata": {
    "execution": {
     "iopub.execute_input": "2023-12-27T15:08:37.198403Z",
     "iopub.status.busy": "2023-12-27T15:08:37.197972Z",
     "iopub.status.idle": "2023-12-27T15:08:37.203507Z",
     "shell.execute_reply": "2023-12-27T15:08:37.202399Z",
     "shell.execute_reply.started": "2023-12-27T15:08:37.198366Z"
    }
   },
   "outputs": [],
   "source": [
    "xgb_clf.save_model(\"./xgb.json\")\n",
    "pickle.dump(xgb_clf, open(\"./xgb.pickle.dat\", \"wb\"))"
   ]
  },
  {
   "cell_type": "code",
   "execution_count": 253,
   "metadata": {
    "execution": {
     "iopub.execute_input": "2023-12-27T15:08:37.205259Z",
     "iopub.status.busy": "2023-12-27T15:08:37.204914Z",
     "iopub.status.idle": "2023-12-27T15:08:37.216338Z",
     "shell.execute_reply": "2023-12-27T15:08:37.215188Z",
     "shell.execute_reply.started": "2023-12-27T15:08:37.205229Z"
    }
   },
   "outputs": [],
   "source": [
    "results_xgb_clf = xgb_clf.evals_result()"
   ]
  },
  {
   "cell_type": "code",
   "execution_count": 254,
   "metadata": {
    "execution": {
     "iopub.execute_input": "2023-12-27T15:08:37.218189Z",
     "iopub.status.busy": "2023-12-27T15:08:37.217827Z",
     "iopub.status.idle": "2023-12-27T15:08:37.670003Z",
     "shell.execute_reply": "2023-12-27T15:08:37.668733Z",
     "shell.execute_reply.started": "2023-12-27T15:08:37.218158Z"
    }
   },
   "outputs": [
    {
     "data": {
      "image/png": "[encoded data removed]",
      "text/plain": [
       "<Figure size 432x288 with 1 Axes>"
      ]
     },
     "metadata": {
      "needs_background": "light"
     },
     "output_type": "display_data"
    }
   ],
   "source": [
    "# Plot learning curves\n",
    "plt.plot(results_xgb_clf['validation_0']['mlogloss'], label='train')\n",
    "plt.plot(results_xgb_clf['validation_1']['mlogloss'], label='validation')\n",
    "plt.title('loss')\n",
    "plt.xlabel('iteration')\n",
    "plt.ylabel('logloss')\n",
    "plt.legend()\n",
    "plt.show()"
   ]
  },
  {
   "cell_type": "code",
   "execution_count": 255,
   "metadata": {
    "execution": {
     "iopub.execute_input": "2023-12-27T15:08:37.672051Z",
     "iopub.status.busy": "2023-12-27T15:08:37.671628Z",
     "iopub.status.idle": "2023-12-27T15:09:05.771271Z",
     "shell.execute_reply": "2023-12-27T15:09:05.769873Z",
     "shell.execute_reply.started": "2023-12-27T15:08:37.672012Z"
    }
   },
   "outputs": [],
   "source": [
    "y_train_pred = xgb_clf.predict(X_train)"
   ]
  },
  {
   "cell_type": "code",
   "execution_count": 256,
   "metadata": {
    "execution": {
     "iopub.execute_input": "2023-12-27T15:09:05.773298Z",
     "iopub.status.busy": "2023-12-27T15:09:05.772883Z",
     "iopub.status.idle": "2023-12-27T15:09:13.128332Z",
     "shell.execute_reply": "2023-12-27T15:09:13.127332Z",
     "shell.execute_reply.started": "2023-12-27T15:09:05.773262Z"
    }
   },
   "outputs": [],
   "source": [
    "y_validation_pred = xgb_clf.predict(X_validation)"
   ]
  },
  {
   "cell_type": "markdown",
   "metadata": {},
   "source": [
    "# Results evaluation"
   ]
  },
  {
   "cell_type": "code",
   "execution_count": 257,
   "metadata": {
    "execution": {
     "iopub.execute_input": "2023-12-27T15:09:13.130560Z",
     "iopub.status.busy": "2023-12-27T15:09:13.129859Z",
     "iopub.status.idle": "2023-12-27T15:09:13.259644Z",
     "shell.execute_reply": "2023-12-27T15:09:13.258523Z",
     "shell.execute_reply.started": "2023-12-27T15:09:13.130521Z"
    }
   },
   "outputs": [
    {
     "name": "stdout",
     "output_type": "stream",
     "text": [
      "training accuracy: 0.54\n",
      "testing accuracy: 0.52\n"
     ]
    }
   ],
   "source": [
    "## accuracy\n",
    "from sklearn.metrics import accuracy_score\n",
    "\n",
    "acc_train = accuracy_score(y_true=y_train, y_pred=y_train_pred)\n",
    "acc_validation = accuracy_score(y_true=y_validation, y_pred=y_validation_pred)\n",
    "\n",
    "print('training accuracy: {}'.format(round(acc_train, 2)))\n",
    "print('testing accuracy: {}'.format(round(acc_validation, 2)))"
   ]
  },
  {
   "cell_type": "code",
   "execution_count": 258,
   "metadata": {
    "execution": {
     "iopub.execute_input": "2023-12-27T15:09:13.261842Z",
     "iopub.status.busy": "2023-12-27T15:09:13.261202Z",
     "iopub.status.idle": "2023-12-27T15:09:14.506672Z",
     "shell.execute_reply": "2023-12-27T15:09:14.505399Z",
     "shell.execute_reply.started": "2023-12-27T15:09:13.261803Z"
    }
   },
   "outputs": [
    {
     "name": "stdout",
     "output_type": "stream",
     "text": [
      "              precision    recall  f1-score   support\n",
      "\n",
      "           0       0.60      0.14      0.22      7964\n",
      "           1       0.60      0.49      0.54     49725\n",
      "           2       0.40      0.35      0.37     27892\n",
      "           3       0.60      0.29      0.39     12955\n",
      "           4       0.52      0.83      0.64    103089\n",
      "           5       0.44      0.43      0.44     38835\n",
      "           6       0.87      0.10      0.18      9750\n",
      "           7       0.57      0.19      0.28     40903\n",
      "\n",
      "    accuracy                           0.52    291113\n",
      "   macro avg       0.57      0.35      0.38    291113\n",
      "weighted avg       0.54      0.52      0.48    291113\n",
      "\n"
     ]
    }
   ],
   "source": [
    "## precision, recall, f1-score,\n",
    "from sklearn.metrics import classification_report\n",
    "\n",
    "classification_report_validation = classification_report(y_true=y_validation, y_pred=y_validation_pred)\n",
    "print(classification_report(y_true=y_validation, y_pred=y_validation_pred))"
   ]
  },
  {
   "cell_type": "markdown",
   "metadata": {},
   "source": [
    "# submission.csv"
   ]
  },
  {
   "cell_type": "code",
   "execution_count": 259,
   "metadata": {
    "execution": {
     "iopub.execute_input": "2023-12-27T15:09:14.508678Z",
     "iopub.status.busy": "2023-12-27T15:09:14.508230Z",
     "iopub.status.idle": "2023-12-27T15:09:14.661663Z",
     "shell.execute_reply": "2023-12-27T15:09:14.660331Z",
     "shell.execute_reply.started": "2023-12-27T15:09:14.508621Z"
    }
   },
   "outputs": [
    {
     "data": {
      "text/plain": [
       "0.3833199728195718"
      ]
     },
     "execution_count": 259,
     "metadata": {},
     "output_type": "execute_result"
    }
   ],
   "source": [
    "from sklearn.metrics import f1_score\n",
    "f1_score(y_validation, y_validation_pred, average=None).mean()"
   ]
  },
  {
   "cell_type": "code",
   "execution_count": 260,
   "metadata": {
    "execution": {
     "iopub.execute_input": "2023-12-27T15:09:14.663608Z",
     "iopub.status.busy": "2023-12-27T15:09:14.663202Z",
     "iopub.status.idle": "2023-12-27T15:12:52.517612Z",
     "shell.execute_reply": "2023-12-27T15:12:52.516339Z",
     "shell.execute_reply.started": "2023-12-27T15:09:14.663572Z"
    }
   },
   "outputs": [],
   "source": [
    "test_data = preprocessing(test_data)\n",
    "test_data['len'] = test_data['processed_texts'].apply(len)\n",
    "test_data['len'] = scaler.transform(test_data['len'].values.reshape(len(test_data['len']), 1))\n",
    "X_test = np.array([calculate_average_word_vector_representation(s) for s in test_data['processed_texts']])\n",
    "# len_test = test_data['len'].values.reshape(X_test.shape[0], 1)\n",
    "# X_test = np.hstack((X_test, len_test))\n",
    "y_test = xgb_clf.predict(X_test)\n",
    "y_label = label_encoder.inverse_transform(y_test)\n",
    "test_data['emotion'] = y_label"
   ]
  },
  {
   "cell_type": "code",
   "execution_count": 261,
   "metadata": {
    "execution": {
     "iopub.execute_input": "2023-12-27T15:12:52.519688Z",
     "iopub.status.busy": "2023-12-27T15:12:52.519266Z",
     "iopub.status.idle": "2023-12-27T15:12:53.200138Z",
     "shell.execute_reply": "2023-12-27T15:12:53.198827Z",
     "shell.execute_reply.started": "2023-12-27T15:12:52.519631Z"
    }
   },
   "outputs": [],
   "source": [
    "test_data.drop(['hashtags', 'texts', 'processed_texts', 'len'], axis=1).rename(columns={'tweet_id':'id'}).to_csv('./submission.csv', index=False)"
   ]
  },
  {
   "cell_type": "code",
   "execution_count": 262,
   "metadata": {
    "execution": {
     "iopub.execute_input": "2023-12-27T15:12:53.201952Z",
     "iopub.status.busy": "2023-12-27T15:12:53.201582Z",
     "iopub.status.idle": "2023-12-27T15:12:53.268139Z",
     "shell.execute_reply": "2023-12-27T15:12:53.266944Z",
     "shell.execute_reply.started": "2023-12-27T15:12:53.201921Z"
    },
    "scrolled": false
   },
   "outputs": [
    {
     "data": {
      "text/html": [
       "<div>\n",
       "<style scoped>\n",
       "    .dataframe tbody tr th:only-of-type {\n",
       "        vertical-align: middle;\n",
       "    }\n",
       "\n",
       "    .dataframe tbody tr th {\n",
       "        vertical-align: top;\n",
       "    }\n",
       "\n",
       "    .dataframe thead th {\n",
       "        text-align: right;\n",
       "    }\n",
       "</style>\n",
       "<table border=\"1\" class=\"dataframe\">\n",
       "  <thead>\n",
       "    <tr style=\"text-align: right;\">\n",
       "      <th></th>\n",
       "      <th>id</th>\n",
       "      <th>emotion</th>\n",
       "    </tr>\n",
       "  </thead>\n",
       "  <tbody>\n",
       "    <tr>\n",
       "      <th>0</th>\n",
       "      <td>0x28cc61</td>\n",
       "      <td>joy</td>\n",
       "    </tr>\n",
       "    <tr>\n",
       "      <th>1</th>\n",
       "      <td>0x2db41f</td>\n",
       "      <td>sadness</td>\n",
       "    </tr>\n",
       "    <tr>\n",
       "      <th>2</th>\n",
       "      <td>0x2466f6</td>\n",
       "      <td>joy</td>\n",
       "    </tr>\n",
       "    <tr>\n",
       "      <th>3</th>\n",
       "      <td>0x23f9e9</td>\n",
       "      <td>joy</td>\n",
       "    </tr>\n",
       "    <tr>\n",
       "      <th>4</th>\n",
       "      <td>0x1fb4e1</td>\n",
       "      <td>joy</td>\n",
       "    </tr>\n",
       "    <tr>\n",
       "      <th>...</th>\n",
       "      <td>...</td>\n",
       "      <td>...</td>\n",
       "    </tr>\n",
       "    <tr>\n",
       "      <th>411967</th>\n",
       "      <td>0x2c4dc2</td>\n",
       "      <td>joy</td>\n",
       "    </tr>\n",
       "    <tr>\n",
       "      <th>411968</th>\n",
       "      <td>0x31be7c</td>\n",
       "      <td>anticipation</td>\n",
       "    </tr>\n",
       "    <tr>\n",
       "      <th>411969</th>\n",
       "      <td>0x1ca58e</td>\n",
       "      <td>joy</td>\n",
       "    </tr>\n",
       "    <tr>\n",
       "      <th>411970</th>\n",
       "      <td>0x35c8ba</td>\n",
       "      <td>joy</td>\n",
       "    </tr>\n",
       "    <tr>\n",
       "      <th>411971</th>\n",
       "      <td>0x1d941b</td>\n",
       "      <td>joy</td>\n",
       "    </tr>\n",
       "  </tbody>\n",
       "</table>\n",
       "<p>411972 rows × 2 columns</p>\n",
       "</div>"
      ],
      "text/plain": [
       "              id       emotion\n",
       "0       0x28cc61           joy\n",
       "1       0x2db41f       sadness\n",
       "2       0x2466f6           joy\n",
       "3       0x23f9e9           joy\n",
       "4       0x1fb4e1           joy\n",
       "...          ...           ...\n",
       "411967  0x2c4dc2           joy\n",
       "411968  0x31be7c  anticipation\n",
       "411969  0x1ca58e           joy\n",
       "411970  0x35c8ba           joy\n",
       "411971  0x1d941b           joy\n",
       "\n",
       "[411972 rows x 2 columns]"
      ]
     },
     "execution_count": 262,
     "metadata": {},
     "output_type": "execute_result"
    }
   ],
   "source": [
    "test_data.drop(['hashtags', 'texts', 'processed_texts', 'len'], axis=1).rename(columns={'tweet_id':'id'})"
   ]
  }
 ],
 "metadata": {
  "kaggle": {
   "accelerator": "none",
   "dataSources": [
    {
     "datasetId": 4215226,
     "sourceId": 7271414,
     "sourceType": "datasetVersion"
    },
    {
     "datasetId": 4220027,
     "sourceId": 7278538,
     "sourceType": "datasetVersion"
    }
   ],
   "dockerImageVersionId": 30626,
   "isGpuEnabled": false,
   "isInternetEnabled": true,
   "language": "python",
   "sourceType": "notebook"
  },
  "kernelspec": {
   "display_name": "Python 3 (ipykernel)",
   "language": "python",
   "name": "python3"
  },
  "language_info": {
   "codemirror_mode": {
    "name": "ipython",
    "version": 3
   },
   "file_extension": ".py",
   "mimetype": "text/x-python",
   "name": "python",
   "nbconvert_exporter": "python",
   "pygments_lexer": "ipython3",
   "version": "3.9.11"
  },
  "varInspector": {
   "cols": {
    "lenName": 16,
    "lenType": 16,
    "lenVar": 40
   },
   "kernels_config": {
    "python": {
     "delete_cmd_postfix": "",
     "delete_cmd_prefix": "del ",
     "library": "var_list.py",
     "varRefreshCmd": "print(var_dic_list())"
    },
    "r": {
     "delete_cmd_postfix": ") ",
     "delete_cmd_prefix": "rm(",
     "library": "var_list.r",
     "varRefreshCmd": "cat(var_dic_list()) "
    }
   },
   "types_to_exclude": [
    "module",
    "function",
    "builtin_function_or_method",
    "instance",
    "_Feature"
   ],
   "window_display": false
  }
 },
 "nbformat": 4,
 "nbformat_minor": 4
}

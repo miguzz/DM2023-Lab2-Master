{
 "cells": [
  {
   "cell_type": "markdown",
   "id": "45625c56",
   "metadata": {},
   "source": [
    "This notebook includes all the steps performed to format the raw data into tabular format (dataframe)"
   ]
  },
  {
   "cell_type": "code",
   "execution_count": 34,
   "id": "e08f9961",
   "metadata": {},
   "outputs": [],
   "source": [
    "import pandas as pd\n",
    "import numpy as np\n",
    "import os\n",
    "import json\n",
    "import pickle\n",
    "import warnings\n",
    "warnings.filterwarnings('ignore')"
   ]
  },
  {
   "cell_type": "code",
   "execution_count": 35,
   "id": "01f4af9f",
   "metadata": {},
   "outputs": [
    {
     "data": {
      "text/plain": [
       "['data_identification.csv',\n",
       " 'dm2023-isa5810-lab2-homework',\n",
       " 'dm2023-isa5810-lab2-homework.zip',\n",
       " 'emotion.csv',\n",
       " 'sampleSubmission.csv',\n",
       " 'test_data.csv',\n",
       " 'train_data.csv',\n",
       " 'tweets_DM.json',\n",
       " 'tweets_DM_df.csv']"
      ]
     },
     "execution_count": 35,
     "metadata": {},
     "output_type": "execute_result"
    }
   ],
   "source": [
    "os.listdir('../data_kaggle/')"
   ]
  },
  {
   "cell_type": "code",
   "execution_count": 36,
   "id": "728a0edf",
   "metadata": {},
   "outputs": [],
   "source": [
    "data_identification = pd.read_csv('../data_kaggle/data_identification.csv')\n",
    "emotion = pd.read_csv('../data_kaggle/emotion.csv')\n",
    "sampleSubmission = pd.read_csv('../data_kaggle/sampleSubmission.csv')\n",
    "tweets_DM_df = pd.read_csv('../data_kaggle/tweets_DM_df.csv')"
   ]
  },
  {
   "cell_type": "code",
   "execution_count": 37,
   "id": "d2abd2cb",
   "metadata": {},
   "outputs": [],
   "source": [
    "tweets_DM = []\n",
    "with open('../data_kaggle/tweets_DM.json', 'r') as file:\n",
    "    for line in file:\n",
    "        tweets_DM.append(json.loads(line))"
   ]
  },
  {
   "cell_type": "markdown",
   "id": "1c88e586",
   "metadata": {},
   "source": [
    "# Data transformation (raw data to dataframe)"
   ]
  },
  {
   "cell_type": "code",
   "execution_count": 38,
   "id": "c724fcb8",
   "metadata": {},
   "outputs": [
    {
     "data": {
      "text/plain": [
       "1867535"
      ]
     },
     "execution_count": 38,
     "metadata": {},
     "output_type": "execute_result"
    }
   ],
   "source": [
    "len(tweets_DM)"
   ]
  },
  {
   "cell_type": "code",
   "execution_count": 39,
   "id": "7cf2af7a",
   "metadata": {},
   "outputs": [],
   "source": [
    "extract_hashtags_id_text = {'tweet_id':[], 'hashtags': [], 'texts':[]}\n",
    "for i in range(len(tweets_DM)):\n",
    "    tweets_info = tweets_DM[i]['_source']['tweet']\n",
    "    extract_hashtags_id_text['tweet_id'].append(tweets_info['tweet_id'])\n",
    "    extract_hashtags_id_text['hashtags'].append(tweets_info['hashtags'])\n",
    "    extract_hashtags_id_text['texts'].append(tweets_info['text'])"
   ]
  },
  {
   "cell_type": "code",
   "execution_count": 40,
   "id": "020f8e97",
   "metadata": {},
   "outputs": [],
   "source": [
    "tweets_DM_df = pd.DataFrame(extract_hashtags_id_text)"
   ]
  },
  {
   "cell_type": "code",
   "execution_count": 41,
   "id": "490bf4e8",
   "metadata": {},
   "outputs": [
    {
     "data": {
      "text/html": [
       "<div>\n",
       "<style scoped>\n",
       "    .dataframe tbody tr th:only-of-type {\n",
       "        vertical-align: middle;\n",
       "    }\n",
       "\n",
       "    .dataframe tbody tr th {\n",
       "        vertical-align: top;\n",
       "    }\n",
       "\n",
       "    .dataframe thead th {\n",
       "        text-align: right;\n",
       "    }\n",
       "</style>\n",
       "<table border=\"1\" class=\"dataframe\">\n",
       "  <thead>\n",
       "    <tr style=\"text-align: right;\">\n",
       "      <th></th>\n",
       "      <th>tweet_id</th>\n",
       "      <th>hashtags</th>\n",
       "      <th>texts</th>\n",
       "    </tr>\n",
       "  </thead>\n",
       "  <tbody>\n",
       "    <tr>\n",
       "      <th>0</th>\n",
       "      <td>0x376b20</td>\n",
       "      <td>[Snapchat]</td>\n",
       "      <td>People who post \"add me on #Snapchat\" must be ...</td>\n",
       "    </tr>\n",
       "    <tr>\n",
       "      <th>1</th>\n",
       "      <td>0x2d5350</td>\n",
       "      <td>[freepress, TrumpLegacy, CNN]</td>\n",
       "      <td>@brianklaas As we see, Trump is dangerous to #...</td>\n",
       "    </tr>\n",
       "    <tr>\n",
       "      <th>2</th>\n",
       "      <td>0x28b412</td>\n",
       "      <td>[bibleverse]</td>\n",
       "      <td>Confident of your obedience, I write to you, k...</td>\n",
       "    </tr>\n",
       "    <tr>\n",
       "      <th>3</th>\n",
       "      <td>0x1cd5b0</td>\n",
       "      <td>[]</td>\n",
       "      <td>Now ISSA is stalking Tasha 😂😂😂 &lt;LH&gt;</td>\n",
       "    </tr>\n",
       "    <tr>\n",
       "      <th>4</th>\n",
       "      <td>0x2de201</td>\n",
       "      <td>[]</td>\n",
       "      <td>\"Trust is not the same as faith. A friend is s...</td>\n",
       "    </tr>\n",
       "    <tr>\n",
       "      <th>...</th>\n",
       "      <td>...</td>\n",
       "      <td>...</td>\n",
       "      <td>...</td>\n",
       "    </tr>\n",
       "    <tr>\n",
       "      <th>1867530</th>\n",
       "      <td>0x316b80</td>\n",
       "      <td>[mixedfeeling, butimTHATperson]</td>\n",
       "      <td>When you buy the last 2 tickets remaining for ...</td>\n",
       "    </tr>\n",
       "    <tr>\n",
       "      <th>1867531</th>\n",
       "      <td>0x29d0cb</td>\n",
       "      <td>[]</td>\n",
       "      <td>I swear all this hard work gone pay off one da...</td>\n",
       "    </tr>\n",
       "    <tr>\n",
       "      <th>1867532</th>\n",
       "      <td>0x2a6a4f</td>\n",
       "      <td>[]</td>\n",
       "      <td>@Parcel2Go no card left when I wasn't in so I ...</td>\n",
       "    </tr>\n",
       "    <tr>\n",
       "      <th>1867533</th>\n",
       "      <td>0x24faed</td>\n",
       "      <td>[]</td>\n",
       "      <td>Ah, corporate life, where you can date &lt;LH&gt; us...</td>\n",
       "    </tr>\n",
       "    <tr>\n",
       "      <th>1867534</th>\n",
       "      <td>0x34be8c</td>\n",
       "      <td>[Sundayvibes]</td>\n",
       "      <td>Blessed to be living #Sundayvibes &lt;LH&gt;</td>\n",
       "    </tr>\n",
       "  </tbody>\n",
       "</table>\n",
       "<p>1867535 rows × 3 columns</p>\n",
       "</div>"
      ],
      "text/plain": [
       "         tweet_id                         hashtags  \\\n",
       "0        0x376b20                       [Snapchat]   \n",
       "1        0x2d5350    [freepress, TrumpLegacy, CNN]   \n",
       "2        0x28b412                     [bibleverse]   \n",
       "3        0x1cd5b0                               []   \n",
       "4        0x2de201                               []   \n",
       "...           ...                              ...   \n",
       "1867530  0x316b80  [mixedfeeling, butimTHATperson]   \n",
       "1867531  0x29d0cb                               []   \n",
       "1867532  0x2a6a4f                               []   \n",
       "1867533  0x24faed                               []   \n",
       "1867534  0x34be8c                    [Sundayvibes]   \n",
       "\n",
       "                                                     texts  \n",
       "0        People who post \"add me on #Snapchat\" must be ...  \n",
       "1        @brianklaas As we see, Trump is dangerous to #...  \n",
       "2        Confident of your obedience, I write to you, k...  \n",
       "3                      Now ISSA is stalking Tasha 😂😂😂 <LH>  \n",
       "4        \"Trust is not the same as faith. A friend is s...  \n",
       "...                                                    ...  \n",
       "1867530  When you buy the last 2 tickets remaining for ...  \n",
       "1867531  I swear all this hard work gone pay off one da...  \n",
       "1867532  @Parcel2Go no card left when I wasn't in so I ...  \n",
       "1867533  Ah, corporate life, where you can date <LH> us...  \n",
       "1867534             Blessed to be living #Sundayvibes <LH>  \n",
       "\n",
       "[1867535 rows x 3 columns]"
      ]
     },
     "execution_count": 41,
     "metadata": {},
     "output_type": "execute_result"
    }
   ],
   "source": [
    "tweets_DM_df"
   ]
  },
  {
   "cell_type": "code",
   "execution_count": 42,
   "id": "ae270885",
   "metadata": {},
   "outputs": [],
   "source": [
    "# tweets_DM_df.to_csv('../data_kaggle/tweets_DM_df.csv', index=False)"
   ]
  },
  {
   "cell_type": "code",
   "execution_count": 43,
   "id": "be492d18",
   "metadata": {},
   "outputs": [],
   "source": [
    "data = pd.merge(data_identification, tweets_DM_df, on='tweet_id')"
   ]
  },
  {
   "cell_type": "code",
   "execution_count": 44,
   "id": "fde703bf",
   "metadata": {},
   "outputs": [],
   "source": [
    "train_data = data[data['identification'] == 'train']\n",
    "test_data = data[data['identification'] == 'test']"
   ]
  },
  {
   "cell_type": "code",
   "execution_count": 45,
   "id": "7b8689f1",
   "metadata": {},
   "outputs": [],
   "source": [
    "train_data = pd.merge(train_data, emotion, on='tweet_id')"
   ]
  },
  {
   "cell_type": "code",
   "execution_count": 46,
   "id": "81cc0c5e",
   "metadata": {},
   "outputs": [
    {
     "name": "stdout",
     "output_type": "stream",
     "text": [
      "(1455563, 5)\n",
      "(411972, 4)\n"
     ]
    }
   ],
   "source": [
    "print(train_data.shape)\n",
    "print(test_data.shape)"
   ]
  },
  {
   "cell_type": "code",
   "execution_count": 47,
   "id": "0cb579d5",
   "metadata": {},
   "outputs": [],
   "source": [
    "train_data = train_data.drop('identification', axis=1)\n",
    "test_data = test_data.drop('identification', axis=1)"
   ]
  },
  {
   "cell_type": "code",
   "execution_count": 48,
   "id": "b7b259cc",
   "metadata": {},
   "outputs": [],
   "source": [
    "train_data.to_csv('../data_kaggle/train_data.csv', index=False)\n",
    "test_data.to_csv('../data_kaggle/test_data.csv', index=False)"
   ]
  }
 ],
 "metadata": {
  "kernelspec": {
   "display_name": "Python 3 (ipykernel)",
   "language": "python",
   "name": "python3"
  },
  "language_info": {
   "codemirror_mode": {
    "name": "ipython",
    "version": 3
   },
   "file_extension": ".py",
   "mimetype": "text/x-python",
   "name": "python",
   "nbconvert_exporter": "python",
   "pygments_lexer": "ipython3",
   "version": "3.9.11"
  }
 },
 "nbformat": 4,
 "nbformat_minor": 5
}

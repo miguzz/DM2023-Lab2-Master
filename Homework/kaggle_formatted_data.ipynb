{
 "cells": [
  {
   "cell_type": "markdown",
   "id": "45625c56",
   "metadata": {},
   "source": [
    "This notebook includes all the steps performed to format the raw data into tabular format (dataframe)"
   ]
  },
  {
   "cell_type": "markdown",
   "id": "1b43d607",
   "metadata": {},
   "source": [
    "# Download raw data"
   ]
  },
  {
   "cell_type": "code",
   "execution_count": 1,
   "id": "607beda9",
   "metadata": {},
   "outputs": [
    {
     "name": "stdout",
     "output_type": "stream",
     "text": [
      "Downloading dm2023-isa5810-lab2-homework.zip to C:\\Users\\micha\\Documents\\MesFichiersJupyter\\NTHU\\data_mining\\DM2023-Lab2-Master\\Homework\n",
      "\n"
     ]
    },
    {
     "name": "stderr",
     "output_type": "stream",
     "text": [
      "\n",
      "  0%|          | 0.00/149M [00:00<?, ?B/s]\n",
      "  1%|          | 1.00M/149M [00:00<02:21, 1.10MB/s]\n",
      "  1%|1         | 2.00M/149M [00:01<01:12, 2.14MB/s]\n",
      "  3%|2         | 4.00M/149M [00:01<00:33, 4.58MB/s]\n",
      "  5%|4         | 7.00M/149M [00:01<00:18, 7.85MB/s]\n",
      "  6%|6         | 9.00M/149M [00:01<00:17, 8.37MB/s]\n",
      "  8%|8         | 12.0M/149M [00:01<00:12, 11.7MB/s]\n",
      "  9%|9         | 14.0M/149M [00:02<00:15, 9.38MB/s]\n",
      " 11%|#         | 16.0M/149M [00:02<00:12, 11.0MB/s]\n",
      " 12%|#2        | 18.0M/149M [00:02<00:12, 11.4MB/s]\n",
      " 13%|#3        | 20.0M/149M [00:02<00:10, 12.6MB/s]\n",
      " 15%|#4        | 22.0M/149M [00:02<00:10, 13.2MB/s]\n",
      " 16%|#6        | 24.0M/149M [00:02<00:09, 14.1MB/s]\n",
      " 18%|#8        | 27.0M/149M [00:02<00:07, 16.0MB/s]\n",
      " 19%|#9        | 29.0M/149M [00:03<00:09, 13.5MB/s]\n",
      " 21%|##        | 31.0M/149M [00:03<00:08, 14.8MB/s]\n",
      " 22%|##2       | 33.0M/149M [00:03<00:07, 15.4MB/s]\n",
      " 23%|##3       | 35.0M/149M [00:03<00:07, 16.3MB/s]\n",
      " 25%|##4       | 37.0M/149M [00:03<00:06, 17.1MB/s]\n",
      " 26%|##6       | 39.0M/149M [00:03<00:06, 17.7MB/s]\n",
      " 28%|##7       | 41.0M/149M [00:03<00:06, 18.1MB/s]\n",
      " 30%|##9       | 44.0M/149M [00:03<00:05, 19.8MB/s]\n",
      " 32%|###2      | 48.0M/149M [00:04<00:05, 20.1MB/s]\n",
      " 34%|###4      | 51.0M/149M [00:04<00:04, 21.8MB/s]\n",
      " 36%|###6      | 54.0M/149M [00:04<00:04, 22.7MB/s]\n",
      " 38%|###8      | 57.0M/149M [00:04<00:04, 22.6MB/s]\n",
      " 40%|####      | 60.0M/149M [00:04<00:04, 19.8MB/s]\n",
      " 42%|####1     | 62.0M/149M [00:04<00:05, 16.4MB/s]\n",
      " 44%|####3     | 65.0M/149M [00:05<00:04, 18.3MB/s]\n",
      " 46%|####5     | 68.0M/149M [00:05<00:04, 18.5MB/s]\n",
      " 48%|####7     | 71.0M/149M [00:05<00:04, 20.1MB/s]\n",
      " 50%|####9     | 74.0M/149M [00:05<00:03, 21.5MB/s]\n",
      " 52%|#####1    | 77.0M/149M [00:05<00:04, 17.7MB/s]\n",
      " 54%|#####3    | 80.0M/149M [00:05<00:03, 19.4MB/s]\n",
      " 56%|#####5    | 83.0M/149M [00:06<00:03, 19.6MB/s]\n",
      " 58%|#####7    | 86.0M/149M [00:06<00:03, 21.7MB/s]\n",
      " 60%|#####9    | 89.0M/149M [00:06<00:02, 22.6MB/s]\n",
      " 62%|######1   | 92.0M/149M [00:06<00:02, 20.5MB/s]\n",
      " 64%|######3   | 95.0M/149M [00:06<00:02, 21.7MB/s]\n",
      " 66%|######5   | 98.0M/149M [00:06<00:02, 22.6MB/s]\n",
      " 68%|######7   | 101M/149M [00:06<00:02, 21.1MB/s] \n",
      " 70%|######9   | 104M/149M [00:07<00:02, 22.2MB/s]\n",
      " 72%|#######1  | 107M/149M [00:07<00:02, 19.8MB/s]\n",
      " 73%|#######3  | 109M/149M [00:07<00:02, 17.9MB/s]\n",
      " 75%|#######5  | 112M/149M [00:07<00:01, 20.0MB/s]\n",
      " 77%|#######7  | 115M/149M [00:07<00:02, 15.6MB/s]\n",
      " 79%|#######9  | 118M/149M [00:07<00:02, 16.2MB/s]\n",
      " 82%|########1 | 122M/149M [00:08<00:01, 20.0MB/s]\n",
      " 84%|########3 | 125M/149M [00:08<00:01, 21.3MB/s]\n",
      " 86%|########5 | 128M/149M [00:08<00:01, 22.0MB/s]\n",
      " 88%|########7 | 131M/149M [00:08<00:01, 14.5MB/s]\n",
      " 90%|########9 | 134M/149M [00:08<00:00, 16.4MB/s]\n",
      " 92%|#########1| 137M/149M [00:09<00:00, 18.3MB/s]\n",
      " 94%|#########3| 140M/149M [00:09<00:00, 19.0MB/s]\n",
      " 96%|#########5| 143M/149M [00:09<00:00, 20.4MB/s]\n",
      " 98%|#########7| 146M/149M [00:09<00:00, 20.2MB/s]\n",
      "100%|#########9| 149M/149M [00:09<00:00, 18.4MB/s]\n",
      "100%|##########| 149M/149M [00:09<00:00, 16.2MB/s]\n"
     ]
    }
   ],
   "source": [
    "!kaggle competitions download -c dm2023-isa5810-lab2-homework"
   ]
  },
  {
   "cell_type": "code",
   "execution_count": 4,
   "id": "9835aa92",
   "metadata": {},
   "outputs": [
    {
     "name": "stdout",
     "output_type": "stream",
     "text": [
      "        1 file(s) moved.\n"
     ]
    }
   ],
   "source": [
    "!move dm2023-isa5810-lab2-homework.zip ../data_kaggle/"
   ]
  },
  {
   "cell_type": "code",
   "execution_count": 13,
   "id": "5c1b85d8",
   "metadata": {},
   "outputs": [
    {
     "name": "stdout",
     "output_type": "stream",
     "text": [
      "Archive:  ../data_kaggle/dm2023-isa5810-lab2-homework.zip\n",
      "  inflating: ../data_kaggle/data_identification.csv  \n",
      "  inflating: ../data_kaggle/emotion.csv  \n",
      "  inflating: ../data_kaggle/sampleSubmission.csv  \n",
      "  inflating: ../data_kaggle/tweets_DM.json  \n"
     ]
    }
   ],
   "source": [
    "!unzip ../data_kaggle/dm2023-isa5810-lab2-homework.zip -d ../data_kaggle/"
   ]
  },
  {
   "cell_type": "markdown",
   "id": "4ce43060",
   "metadata": {},
   "source": [
    "# Imports"
   ]
  },
  {
   "cell_type": "code",
   "execution_count": 15,
   "id": "e08f9961",
   "metadata": {},
   "outputs": [],
   "source": [
    "import pandas as pd\n",
    "import numpy as np\n",
    "import os\n",
    "import json\n",
    "import pickle\n",
    "import warnings\n",
    "warnings.filterwarnings('ignore')"
   ]
  },
  {
   "cell_type": "code",
   "execution_count": 19,
   "id": "01f4af9f",
   "metadata": {},
   "outputs": [
    {
     "data": {
      "text/plain": [
       "['data_identification.csv',\n",
       " 'dm2023-isa5810-lab2-homework.zip',\n",
       " 'emotion.csv',\n",
       " 'sampleSubmission.csv',\n",
       " 'tweets_DM.json']"
      ]
     },
     "execution_count": 19,
     "metadata": {},
     "output_type": "execute_result"
    }
   ],
   "source": [
    "os.listdir('../data_kaggle/')"
   ]
  },
  {
   "cell_type": "code",
   "execution_count": 20,
   "id": "728a0edf",
   "metadata": {},
   "outputs": [],
   "source": [
    "data_identification = pd.read_csv('../data_kaggle/data_identification.csv')\n",
    "emotion = pd.read_csv('../data_kaggle/emotion.csv')\n",
    "sampleSubmission = pd.read_csv('../data_kaggle/sampleSubmission.csv')"
   ]
  },
  {
   "cell_type": "code",
   "execution_count": 21,
   "id": "d2abd2cb",
   "metadata": {},
   "outputs": [],
   "source": [
    "tweets_DM = []\n",
    "with open('../data_kaggle/tweets_DM.json', 'r') as file:\n",
    "    for line in file:\n",
    "        tweets_DM.append(json.loads(line))"
   ]
  },
  {
   "cell_type": "markdown",
   "id": "1c88e586",
   "metadata": {},
   "source": [
    "# Data transformation (raw data to dataframe)"
   ]
  },
  {
   "cell_type": "code",
   "execution_count": 22,
   "id": "c724fcb8",
   "metadata": {},
   "outputs": [
    {
     "data": {
      "text/plain": [
       "1867535"
      ]
     },
     "execution_count": 22,
     "metadata": {},
     "output_type": "execute_result"
    }
   ],
   "source": [
    "len(tweets_DM)"
   ]
  },
  {
   "cell_type": "code",
   "execution_count": 23,
   "id": "7cf2af7a",
   "metadata": {},
   "outputs": [],
   "source": [
    "extract_hashtags_id_text = {'tweet_id':[], 'hashtags': [], 'texts':[]}\n",
    "for i in range(len(tweets_DM)):\n",
    "    tweets_info = tweets_DM[i]['_source']['tweet']\n",
    "    extract_hashtags_id_text['tweet_id'].append(tweets_info['tweet_id'])\n",
    "    extract_hashtags_id_text['hashtags'].append(tweets_info['hashtags'])\n",
    "    extract_hashtags_id_text['texts'].append(tweets_info['text'])"
   ]
  },
  {
   "cell_type": "code",
   "execution_count": 24,
   "id": "020f8e97",
   "metadata": {},
   "outputs": [],
   "source": [
    "tweets_DM_df = pd.DataFrame(extract_hashtags_id_text)"
   ]
  },
  {
   "cell_type": "code",
   "execution_count": 25,
   "id": "490bf4e8",
   "metadata": {},
   "outputs": [
    {
     "data": {
      "text/html": [
       "<div>\n",
       "<style scoped>\n",
       "    .dataframe tbody tr th:only-of-type {\n",
       "        vertical-align: middle;\n",
       "    }\n",
       "\n",
       "    .dataframe tbody tr th {\n",
       "        vertical-align: top;\n",
       "    }\n",
       "\n",
       "    .dataframe thead th {\n",
       "        text-align: right;\n",
       "    }\n",
       "</style>\n",
       "<table border=\"1\" class=\"dataframe\">\n",
       "  <thead>\n",
       "    <tr style=\"text-align: right;\">\n",
       "      <th></th>\n",
       "      <th>tweet_id</th>\n",
       "      <th>hashtags</th>\n",
       "      <th>texts</th>\n",
       "    </tr>\n",
       "  </thead>\n",
       "  <tbody>\n",
       "    <tr>\n",
       "      <th>0</th>\n",
       "      <td>0x376b20</td>\n",
       "      <td>[Snapchat]</td>\n",
       "      <td>People who post \"add me on #Snapchat\" must be ...</td>\n",
       "    </tr>\n",
       "    <tr>\n",
       "      <th>1</th>\n",
       "      <td>0x2d5350</td>\n",
       "      <td>[freepress, TrumpLegacy, CNN]</td>\n",
       "      <td>@brianklaas As we see, Trump is dangerous to #...</td>\n",
       "    </tr>\n",
       "    <tr>\n",
       "      <th>2</th>\n",
       "      <td>0x28b412</td>\n",
       "      <td>[bibleverse]</td>\n",
       "      <td>Confident of your obedience, I write to you, k...</td>\n",
       "    </tr>\n",
       "    <tr>\n",
       "      <th>3</th>\n",
       "      <td>0x1cd5b0</td>\n",
       "      <td>[]</td>\n",
       "      <td>Now ISSA is stalking Tasha 😂😂😂 &lt;LH&gt;</td>\n",
       "    </tr>\n",
       "    <tr>\n",
       "      <th>4</th>\n",
       "      <td>0x2de201</td>\n",
       "      <td>[]</td>\n",
       "      <td>\"Trust is not the same as faith. A friend is s...</td>\n",
       "    </tr>\n",
       "    <tr>\n",
       "      <th>...</th>\n",
       "      <td>...</td>\n",
       "      <td>...</td>\n",
       "      <td>...</td>\n",
       "    </tr>\n",
       "    <tr>\n",
       "      <th>1867530</th>\n",
       "      <td>0x316b80</td>\n",
       "      <td>[mixedfeeling, butimTHATperson]</td>\n",
       "      <td>When you buy the last 2 tickets remaining for ...</td>\n",
       "    </tr>\n",
       "    <tr>\n",
       "      <th>1867531</th>\n",
       "      <td>0x29d0cb</td>\n",
       "      <td>[]</td>\n",
       "      <td>I swear all this hard work gone pay off one da...</td>\n",
       "    </tr>\n",
       "    <tr>\n",
       "      <th>1867532</th>\n",
       "      <td>0x2a6a4f</td>\n",
       "      <td>[]</td>\n",
       "      <td>@Parcel2Go no card left when I wasn't in so I ...</td>\n",
       "    </tr>\n",
       "    <tr>\n",
       "      <th>1867533</th>\n",
       "      <td>0x24faed</td>\n",
       "      <td>[]</td>\n",
       "      <td>Ah, corporate life, where you can date &lt;LH&gt; us...</td>\n",
       "    </tr>\n",
       "    <tr>\n",
       "      <th>1867534</th>\n",
       "      <td>0x34be8c</td>\n",
       "      <td>[Sundayvibes]</td>\n",
       "      <td>Blessed to be living #Sundayvibes &lt;LH&gt;</td>\n",
       "    </tr>\n",
       "  </tbody>\n",
       "</table>\n",
       "<p>1867535 rows × 3 columns</p>\n",
       "</div>"
      ],
      "text/plain": [
       "         tweet_id                         hashtags  \\\n",
       "0        0x376b20                       [Snapchat]   \n",
       "1        0x2d5350    [freepress, TrumpLegacy, CNN]   \n",
       "2        0x28b412                     [bibleverse]   \n",
       "3        0x1cd5b0                               []   \n",
       "4        0x2de201                               []   \n",
       "...           ...                              ...   \n",
       "1867530  0x316b80  [mixedfeeling, butimTHATperson]   \n",
       "1867531  0x29d0cb                               []   \n",
       "1867532  0x2a6a4f                               []   \n",
       "1867533  0x24faed                               []   \n",
       "1867534  0x34be8c                    [Sundayvibes]   \n",
       "\n",
       "                                                     texts  \n",
       "0        People who post \"add me on #Snapchat\" must be ...  \n",
       "1        @brianklaas As we see, Trump is dangerous to #...  \n",
       "2        Confident of your obedience, I write to you, k...  \n",
       "3                      Now ISSA is stalking Tasha 😂😂😂 <LH>  \n",
       "4        \"Trust is not the same as faith. A friend is s...  \n",
       "...                                                    ...  \n",
       "1867530  When you buy the last 2 tickets remaining for ...  \n",
       "1867531  I swear all this hard work gone pay off one da...  \n",
       "1867532  @Parcel2Go no card left when I wasn't in so I ...  \n",
       "1867533  Ah, corporate life, where you can date <LH> us...  \n",
       "1867534             Blessed to be living #Sundayvibes <LH>  \n",
       "\n",
       "[1867535 rows x 3 columns]"
      ]
     },
     "execution_count": 25,
     "metadata": {},
     "output_type": "execute_result"
    }
   ],
   "source": [
    "tweets_DM_df"
   ]
  },
  {
   "cell_type": "code",
   "execution_count": 26,
   "id": "ae270885",
   "metadata": {},
   "outputs": [],
   "source": [
    "# tweets_DM_df.to_csv('../data_kaggle/tweets_DM_df.csv', index=False)"
   ]
  },
  {
   "cell_type": "code",
   "execution_count": 27,
   "id": "be492d18",
   "metadata": {},
   "outputs": [],
   "source": [
    "data = pd.merge(data_identification, tweets_DM_df, on='tweet_id')"
   ]
  },
  {
   "cell_type": "code",
   "execution_count": 28,
   "id": "fde703bf",
   "metadata": {},
   "outputs": [],
   "source": [
    "train_data = data[data['identification'] == 'train']\n",
    "test_data = data[data['identification'] == 'test']"
   ]
  },
  {
   "cell_type": "code",
   "execution_count": 29,
   "id": "7b8689f1",
   "metadata": {},
   "outputs": [],
   "source": [
    "train_data = pd.merge(train_data, emotion, on='tweet_id')"
   ]
  },
  {
   "cell_type": "code",
   "execution_count": 30,
   "id": "81cc0c5e",
   "metadata": {},
   "outputs": [
    {
     "name": "stdout",
     "output_type": "stream",
     "text": [
      "(1455563, 5)\n",
      "(411972, 4)\n"
     ]
    }
   ],
   "source": [
    "print(train_data.shape)\n",
    "print(test_data.shape)"
   ]
  },
  {
   "cell_type": "code",
   "execution_count": 31,
   "id": "0cb579d5",
   "metadata": {},
   "outputs": [],
   "source": [
    "train_data = train_data.drop('identification', axis=1)\n",
    "test_data = test_data.drop('identification', axis=1)"
   ]
  },
  {
   "cell_type": "code",
   "execution_count": 32,
   "id": "b7b259cc",
   "metadata": {},
   "outputs": [],
   "source": [
    "train_data.to_csv('../data_kaggle/train_data.csv', index=False)\n",
    "test_data.to_csv('../data_kaggle/test_data.csv', index=False)"
   ]
  },
  {
   "cell_type": "code",
   "execution_count": 33,
   "id": "f2493b57",
   "metadata": {},
   "outputs": [
    {
     "data": {
      "text/html": [
       "<div>\n",
       "<style scoped>\n",
       "    .dataframe tbody tr th:only-of-type {\n",
       "        vertical-align: middle;\n",
       "    }\n",
       "\n",
       "    .dataframe tbody tr th {\n",
       "        vertical-align: top;\n",
       "    }\n",
       "\n",
       "    .dataframe thead th {\n",
       "        text-align: right;\n",
       "    }\n",
       "</style>\n",
       "<table border=\"1\" class=\"dataframe\">\n",
       "  <thead>\n",
       "    <tr style=\"text-align: right;\">\n",
       "      <th></th>\n",
       "      <th>tweet_id</th>\n",
       "      <th>hashtags</th>\n",
       "      <th>texts</th>\n",
       "      <th>emotion</th>\n",
       "    </tr>\n",
       "  </thead>\n",
       "  <tbody>\n",
       "    <tr>\n",
       "      <th>0</th>\n",
       "      <td>0x29e452</td>\n",
       "      <td>[]</td>\n",
       "      <td>Huge Respect🖒 @JohnnyVegasReal talking about l...</td>\n",
       "      <td>joy</td>\n",
       "    </tr>\n",
       "    <tr>\n",
       "      <th>1</th>\n",
       "      <td>0x2b3819</td>\n",
       "      <td>[spateradio, app]</td>\n",
       "      <td>Yoooo we hit all our monthly goals with the ne...</td>\n",
       "      <td>joy</td>\n",
       "    </tr>\n",
       "    <tr>\n",
       "      <th>2</th>\n",
       "      <td>0x2a2acc</td>\n",
       "      <td>[]</td>\n",
       "      <td>@KIDSNTS @PICU_BCH @uhbcomms @BWCHBoss Well do...</td>\n",
       "      <td>trust</td>\n",
       "    </tr>\n",
       "    <tr>\n",
       "      <th>3</th>\n",
       "      <td>0x2a8830</td>\n",
       "      <td>[PUBG, GamersUnite, twitch, BeHealthy, StayPos...</td>\n",
       "      <td>Come join @ambushman27 on #PUBG while he striv...</td>\n",
       "      <td>joy</td>\n",
       "    </tr>\n",
       "    <tr>\n",
       "      <th>4</th>\n",
       "      <td>0x20b21d</td>\n",
       "      <td>[strength, bones, God]</td>\n",
       "      <td>@fanshixieen2014 Blessings!My #strength little...</td>\n",
       "      <td>anticipation</td>\n",
       "    </tr>\n",
       "  </tbody>\n",
       "</table>\n",
       "</div>"
      ],
      "text/plain": [
       "   tweet_id                                           hashtags  \\\n",
       "0  0x29e452                                                 []   \n",
       "1  0x2b3819                                  [spateradio, app]   \n",
       "2  0x2a2acc                                                 []   \n",
       "3  0x2a8830  [PUBG, GamersUnite, twitch, BeHealthy, StayPos...   \n",
       "4  0x20b21d                             [strength, bones, God]   \n",
       "\n",
       "                                               texts       emotion  \n",
       "0  Huge Respect🖒 @JohnnyVegasReal talking about l...           joy  \n",
       "1  Yoooo we hit all our monthly goals with the ne...           joy  \n",
       "2  @KIDSNTS @PICU_BCH @uhbcomms @BWCHBoss Well do...         trust  \n",
       "3  Come join @ambushman27 on #PUBG while he striv...           joy  \n",
       "4  @fanshixieen2014 Blessings!My #strength little...  anticipation  "
      ]
     },
     "execution_count": 33,
     "metadata": {},
     "output_type": "execute_result"
    }
   ],
   "source": [
    "train_data.head()"
   ]
  },
  {
   "cell_type": "code",
   "execution_count": 35,
   "id": "3cff0a69",
   "metadata": {},
   "outputs": [
    {
     "data": {
      "text/plain": [
       "['data_identification.csv',\n",
       " 'dm2023-isa5810-lab2-homework.zip',\n",
       " 'emotion.csv',\n",
       " 'sampleSubmission.csv',\n",
       " 'test_data.csv',\n",
       " 'train_data.csv',\n",
       " 'tweets_DM.json']"
      ]
     },
     "execution_count": 35,
     "metadata": {},
     "output_type": "execute_result"
    }
   ],
   "source": [
    "os.listdir('../data_kaggle/')"
   ]
  }
 ],
 "metadata": {
  "kernelspec": {
   "display_name": "Python 3 (ipykernel)",
   "language": "python",
   "name": "python3"
  },
  "language_info": {
   "codemirror_mode": {
    "name": "ipython",
    "version": 3
   },
   "file_extension": ".py",
   "mimetype": "text/x-python",
   "name": "python",
   "nbconvert_exporter": "python",
   "pygments_lexer": "ipython3",
   "version": "3.9.11"
  }
 },
 "nbformat": 4,
 "nbformat_minor": 5
}
